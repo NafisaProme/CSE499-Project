{
 "cells": [
  {
   "cell_type": "code",
   "execution_count": 9,
   "id": "900efb10",
   "metadata": {},
   "outputs": [
    {
     "name": "stdout",
     "output_type": "stream",
     "text": [
      "Accuracy: 0.97\n"
     ]
    }
   ],
   "source": [
    "import pandas as pd\n",
    "from sklearn.model_selection import train_test_split\n",
    "from sklearn.ensemble import RandomForestClassifier\n",
    "from sklearn.metrics import accuracy_score\n",
    "\n",
    "# Loading the dataset\n",
    "df = pd.read_csv('output.csv')\n",
    "\n",
    "# Split the dataset into features (X) and target (y)\n",
    "X = df.drop('Disease', axis=1)\n",
    "y = df['Disease']\n",
    "\n",
    "# Split the data into training and testing sets\n",
    "X_train, X_test, y_train, y_test = train_test_split(X, y, test_size=0.2, random_state=42)\n",
    "\n",
    "# Initialize the RandomForestClassifier with multiple Decision Trees (n_estimators)\n",
    "clf = RandomForestClassifier(n_estimators=100, random_state=42)\n",
    "\n",
    "# Train the classifier on the training data\n",
    "clf.fit(X_train, y_train)\n",
    "\n",
    "# Make predictions on the test data\n",
    "y_pred = clf.predict(X_test)\n",
    "\n",
    "# Calculate the accuracy of the model\n",
    "accuracy = accuracy_score(y_test, y_pred)\n",
    "print(f'Accuracy: {accuracy:.2f}')\n"
   ]
  },
  {
   "cell_type": "code",
   "execution_count": 10,
   "id": "f182373a",
   "metadata": {},
   "outputs": [
    {
     "ename": "ValueError",
     "evalue": "Invalid classes inferred from unique values of `y`.  Expected: [  0   1   2   3   4   5   6   7   8   9  10  11  12  13  14  15  16  17\n  18  19  20  21  22  23  24  25  26  27  28  29  30  31  32  33  34  35\n  36  37  38  39  40  41  42  43  44  45  46  47  48  49  50  51  52  53\n  54  55  56  57  58  59  60  61  62  63  64  65  66  67  68  69  70  71\n  72  73  74  75  76  77  78  79  80  81  82  83  84  85  86  87  88  89\n  90  91  92  93  94  95  96  97  98  99 100 101 102 103 104 105 106 107\n 108 109 110 111 112 113 114 115 116 117 118 119 120 121 122 123 124 125\n 126 127 128 129 130 131 132 133 134 135 136 137], got ['(vertigo) Paroymsal  Positional Vertigo' 'AIDS'\n 'Accidentcerebrovascular' 'Acne' 'Adenocarcinoma' 'Affect Labile'\n 'Alcoholic hepatitis' 'Allergy' \"Alzheimer'S Disease\" 'Anxiety State'\n 'Aphasia' 'Arthritis' 'Asthma' 'Bacteremia'\n 'Benign Prostatic Hypertrophy' 'Bipolar Disorder' 'Bronchial Asthma'\n 'Bronchitis' 'Carcinoma Breast' 'Carcinoma Colon' 'Carcinoma Of Lung'\n 'Cardiomyopathy' 'Cervical spondylosis' 'Chicken pox' 'Cholecystitis'\n 'Chronic Alcoholic Intoxication' 'Chronic Kidney Failure'\n 'Chronic cholestasis' 'Cirrhosis' 'Colitis' 'Common Cold' 'Confusion'\n 'Coronary Heart Disease' 'Decubitus Ulcer' 'Deep Vein Thrombosis'\n 'Degenerativepolyarthritis' 'Delusion' 'Dementia' 'Dengue' 'Dependence'\n 'Depressive Disorder' 'Diabetes ' 'Dimorphic hemmorhoids(piles)'\n 'Diverticulitis' 'Diverticulosis' 'Drug Reaction' 'Edema Pulmonary'\n 'Emphysema Pulmonary' 'Encephalopathy' 'Endocarditis' 'Exanthema'\n 'Failure Heart' 'Failure Heart Congestive' 'Failure Kidney'\n 'Fibroid Tumor' 'Fungal infection' 'GERD' 'Gastroenteritis'\n 'Gastroesophageal Reflux Disease' 'Glaucoma' 'Gout' 'Heart attack'\n 'Hemiparesis' 'Hemorrhoids' 'Hepatitis' 'Hepatitis B' 'Hepatitis C'\n 'Hepatitis D' 'Hepatitis E' 'Hernia' 'Hyperbilirubinemia'\n 'Hypercholesterolemia' 'Hyperglycemia' 'Hyperlipidemia' 'Hypertension '\n 'Hypertension Pulmonary' 'Hypertensive Disease' 'Hyperthyroidism'\n 'Hypoglycemia' 'Hypothyroidism' 'Ileus' 'Impetigo' 'Incontinence'\n 'Infection' 'Influenza' 'Insufficiency Renal' 'Ischemia' 'Jaundice'\n 'Ketoacidosis Diabetic' 'Kidney Failure Acute' 'Lymphatic Diseases'\n 'Lymphoma' 'Malaria' 'Malignantneoplasms' 'Manic Disorder' 'Melanoma'\n 'Migraine' 'Migraine Disorders' 'Myocardial Infarction' 'Neoplasm'\n 'Neuropathy' 'Obesity' 'Oralcandidiasis' 'Osteoarthristis'\n 'Osteomyelitis' 'Overload Fluid' 'Pancreatitis' 'Pancytopenia'\n 'Paralysis (brain hemorrhage)' 'Paranoia' 'Parkinson Disease'\n 'Peptic ulcer diseae' 'Pericardial Effusion Body Substance'\n 'Peripheral Vascular Disease' 'Personality Disorder'\n 'Pneumocystiscariniipneumonia' 'Pneumonia' 'Pneumonia Aspiration'\n 'Pneumothorax' 'Primary Carcinoma Of The Liver Cells'\n 'Primary Malignant Neoplasm' 'Psoriasis' 'Psychotic Disorder'\n 'Pyelonephritis' 'Respiratory Failure' 'Schizophrenia'\n 'Sepsis (Invertebrate)' 'Suicide Attempt' 'Tachycardia Sinus' 'Thrombus'\n 'Tonic-Clonic Seizures' 'Transient Ischemic Attack' 'Tuberculosis'\n 'Typhoid' 'Upper Respiratory Infection' 'Urinary tract infection'\n 'Varicose veins' 'hepatitis A']",
     "output_type": "error",
     "traceback": [
      "\u001b[1;31m---------------------------------------------------------------------------\u001b[0m",
      "\u001b[1;31mValueError\u001b[0m                                Traceback (most recent call last)",
      "\u001b[1;32m~\\AppData\\Local\\Temp\\ipykernel_13020\\3718298667.py\u001b[0m in \u001b[0;36m<module>\u001b[1;34m\u001b[0m\n\u001b[0;32m     18\u001b[0m \u001b[1;33m\u001b[0m\u001b[0m\n\u001b[0;32m     19\u001b[0m \u001b[1;31m# Train the classifier on the training data\u001b[0m\u001b[1;33m\u001b[0m\u001b[1;33m\u001b[0m\u001b[0m\n\u001b[1;32m---> 20\u001b[1;33m \u001b[0mclf\u001b[0m\u001b[1;33m.\u001b[0m\u001b[0mfit\u001b[0m\u001b[1;33m(\u001b[0m\u001b[0mX_train\u001b[0m\u001b[1;33m,\u001b[0m \u001b[0my_train\u001b[0m\u001b[1;33m)\u001b[0m\u001b[1;33m\u001b[0m\u001b[1;33m\u001b[0m\u001b[0m\n\u001b[0m\u001b[0;32m     21\u001b[0m \u001b[1;33m\u001b[0m\u001b[0m\n\u001b[0;32m     22\u001b[0m \u001b[1;31m# Make predictions on the test data\u001b[0m\u001b[1;33m\u001b[0m\u001b[1;33m\u001b[0m\u001b[0m\n",
      "\u001b[1;32m~\\AppData\\Roaming\\Python\\Python39\\site-packages\\xgboost\\core.py\u001b[0m in \u001b[0;36minner_f\u001b[1;34m(*args, **kwargs)\u001b[0m\n\u001b[0;32m    618\u001b[0m             \u001b[1;32mfor\u001b[0m \u001b[0mk\u001b[0m\u001b[1;33m,\u001b[0m \u001b[0marg\u001b[0m \u001b[1;32min\u001b[0m \u001b[0mzip\u001b[0m\u001b[1;33m(\u001b[0m\u001b[0msig\u001b[0m\u001b[1;33m.\u001b[0m\u001b[0mparameters\u001b[0m\u001b[1;33m,\u001b[0m \u001b[0margs\u001b[0m\u001b[1;33m)\u001b[0m\u001b[1;33m:\u001b[0m\u001b[1;33m\u001b[0m\u001b[1;33m\u001b[0m\u001b[0m\n\u001b[0;32m    619\u001b[0m                 \u001b[0mkwargs\u001b[0m\u001b[1;33m[\u001b[0m\u001b[0mk\u001b[0m\u001b[1;33m]\u001b[0m \u001b[1;33m=\u001b[0m \u001b[0marg\u001b[0m\u001b[1;33m\u001b[0m\u001b[1;33m\u001b[0m\u001b[0m\n\u001b[1;32m--> 620\u001b[1;33m             \u001b[1;32mreturn\u001b[0m \u001b[0mfunc\u001b[0m\u001b[1;33m(\u001b[0m\u001b[1;33m**\u001b[0m\u001b[0mkwargs\u001b[0m\u001b[1;33m)\u001b[0m\u001b[1;33m\u001b[0m\u001b[1;33m\u001b[0m\u001b[0m\n\u001b[0m\u001b[0;32m    621\u001b[0m \u001b[1;33m\u001b[0m\u001b[0m\n\u001b[0;32m    622\u001b[0m         \u001b[1;32mreturn\u001b[0m \u001b[0minner_f\u001b[0m\u001b[1;33m\u001b[0m\u001b[1;33m\u001b[0m\u001b[0m\n",
      "\u001b[1;32m~\\AppData\\Roaming\\Python\\Python39\\site-packages\\xgboost\\sklearn.py\u001b[0m in \u001b[0;36mfit\u001b[1;34m(self, X, y, sample_weight, base_margin, eval_set, eval_metric, early_stopping_rounds, verbose, xgb_model, sample_weight_eval_set, base_margin_eval_set, feature_weights, callbacks)\u001b[0m\n\u001b[0;32m   1438\u001b[0m                 \u001b[1;32mor\u001b[0m \u001b[1;32mnot\u001b[0m \u001b[1;33m(\u001b[0m\u001b[0mself\u001b[0m\u001b[1;33m.\u001b[0m\u001b[0mclasses_\u001b[0m \u001b[1;33m==\u001b[0m \u001b[0mexpected_classes\u001b[0m\u001b[1;33m)\u001b[0m\u001b[1;33m.\u001b[0m\u001b[0mall\u001b[0m\u001b[1;33m(\u001b[0m\u001b[1;33m)\u001b[0m\u001b[1;33m\u001b[0m\u001b[1;33m\u001b[0m\u001b[0m\n\u001b[0;32m   1439\u001b[0m             ):\n\u001b[1;32m-> 1440\u001b[1;33m                 raise ValueError(\n\u001b[0m\u001b[0;32m   1441\u001b[0m                     \u001b[1;34mf\"Invalid classes inferred from unique values of `y`.  \"\u001b[0m\u001b[1;33m\u001b[0m\u001b[1;33m\u001b[0m\u001b[0m\n\u001b[0;32m   1442\u001b[0m                     \u001b[1;34mf\"Expected: {expected_classes}, got {self.classes_}\"\u001b[0m\u001b[1;33m\u001b[0m\u001b[1;33m\u001b[0m\u001b[0m\n",
      "\u001b[1;31mValueError\u001b[0m: Invalid classes inferred from unique values of `y`.  Expected: [  0   1   2   3   4   5   6   7   8   9  10  11  12  13  14  15  16  17\n  18  19  20  21  22  23  24  25  26  27  28  29  30  31  32  33  34  35\n  36  37  38  39  40  41  42  43  44  45  46  47  48  49  50  51  52  53\n  54  55  56  57  58  59  60  61  62  63  64  65  66  67  68  69  70  71\n  72  73  74  75  76  77  78  79  80  81  82  83  84  85  86  87  88  89\n  90  91  92  93  94  95  96  97  98  99 100 101 102 103 104 105 106 107\n 108 109 110 111 112 113 114 115 116 117 118 119 120 121 122 123 124 125\n 126 127 128 129 130 131 132 133 134 135 136 137], got ['(vertigo) Paroymsal  Positional Vertigo' 'AIDS'\n 'Accidentcerebrovascular' 'Acne' 'Adenocarcinoma' 'Affect Labile'\n 'Alcoholic hepatitis' 'Allergy' \"Alzheimer'S Disease\" 'Anxiety State'\n 'Aphasia' 'Arthritis' 'Asthma' 'Bacteremia'\n 'Benign Prostatic Hypertrophy' 'Bipolar Disorder' 'Bronchial Asthma'\n 'Bronchitis' 'Carcinoma Breast' 'Carcinoma Colon' 'Carcinoma Of Lung'\n 'Cardiomyopathy' 'Cervical spondylosis' 'Chicken pox' 'Cholecystitis'\n 'Chronic Alcoholic Intoxication' 'Chronic Kidney Failure'\n 'Chronic cholestasis' 'Cirrhosis' 'Colitis' 'Common Cold' 'Confusion'\n 'Coronary Heart Disease' 'Decubitus Ulcer' 'Deep Vein Thrombosis'\n 'Degenerativepolyarthritis' 'Delusion' 'Dementia' 'Dengue' 'Dependence'\n 'Depressive Disorder' 'Diabetes ' 'Dimorphic hemmorhoids(piles)'\n 'Diverticulitis' 'Diverticulosis' 'Drug Reaction' 'Edema Pulmonary'\n 'Emphysema Pulmonary' 'Encephalopathy' 'Endocarditis' 'Exanthema'\n 'Failure Heart' 'Failure Heart Congestive' 'Failure Kidney'\n 'Fibroid Tumor' 'Fungal infection' 'GERD' 'Gastroenteritis'\n 'Gastroesophageal Reflux Disease' 'Glaucoma' 'Gout' 'Heart attack'\n 'Hemiparesis' 'Hemorrhoids' 'Hepatitis' 'Hepatitis B' 'Hepatitis C'\n 'Hepatitis D' 'Hepatitis E' 'Hernia' 'Hyperbilirubinemia'\n 'Hypercholesterolemia' 'Hyperglycemia' 'Hyperlipidemia' 'Hypertension '\n 'Hypertension Pulmonary' 'Hypertensive Disease' 'Hyperthyroidism'\n 'Hypoglycemia' 'Hypothyroidism' 'Ileus' 'Impetigo' 'Incontinence'\n 'Infection' 'Influenza' 'Insufficiency Renal' 'Ischemia' 'Jaundice'\n 'Ketoacidosis Diabetic' 'Kidney Failure Acute' 'Lymphatic Diseases'\n 'Lymphoma' 'Malaria' 'Malignantneoplasms' 'Manic Disorder' 'Melanoma'\n 'Migraine' 'Migraine Disorders' 'Myocardial Infarction' 'Neoplasm'\n 'Neuropathy' 'Obesity' 'Oralcandidiasis' 'Osteoarthristis'\n 'Osteomyelitis' 'Overload Fluid' 'Pancreatitis' 'Pancytopenia'\n 'Paralysis (brain hemorrhage)' 'Paranoia' 'Parkinson Disease'\n 'Peptic ulcer diseae' 'Pericardial Effusion Body Substance'\n 'Peripheral Vascular Disease' 'Personality Disorder'\n 'Pneumocystiscariniipneumonia' 'Pneumonia' 'Pneumonia Aspiration'\n 'Pneumothorax' 'Primary Carcinoma Of The Liver Cells'\n 'Primary Malignant Neoplasm' 'Psoriasis' 'Psychotic Disorder'\n 'Pyelonephritis' 'Respiratory Failure' 'Schizophrenia'\n 'Sepsis (Invertebrate)' 'Suicide Attempt' 'Tachycardia Sinus' 'Thrombus'\n 'Tonic-Clonic Seizures' 'Transient Ischemic Attack' 'Tuberculosis'\n 'Typhoid' 'Upper Respiratory Infection' 'Urinary tract infection'\n 'Varicose veins' 'hepatitis A']"
     ]
    }
   ],
   "source": [
    "import pandas as pd\n",
    "from sklearn.model_selection import train_test_split\n",
    "from xgboost import XGBClassifier\n",
    "from sklearn.metrics import accuracy_score\n",
    "\n",
    "# Load your dataset\n",
    "df = pd.read_csv('output.csv')\n",
    "\n",
    "# Split the dataset into features (X) and target (y)\n",
    "X = df.drop('Disease', axis=1)\n",
    "y = df['Disease']\n",
    "\n",
    "# Split the data into training and testing sets\n",
    "X_train, X_test, y_train, y_test = train_test_split(X, y, test_size=0.2, random_state=42)\n",
    "\n",
    "# Initialize the XGBoost classifier\n",
    "clf = XGBClassifier(random_state=42)\n",
    "\n",
    "# Train the classifier on the training data\n",
    "clf.fit(X_train, y_train)\n",
    "\n",
    "# Make predictions on the test data\n",
    "y_pred = clf.predict(X_test)\n",
    "\n",
    "# Calculate the accuracy of the model\n",
    "accuracy = accuracy_score(y_test, y_pred)\n",
    "print(f'Accuracy: {accuracy:.2f}')\n"
   ]
  }
 ],
 "metadata": {
  "kernelspec": {
   "display_name": "Python 3 (ipykernel)",
   "language": "python",
   "name": "python3"
  },
  "language_info": {
   "codemirror_mode": {
    "name": "ipython",
    "version": 3
   },
   "file_extension": ".py",
   "mimetype": "text/x-python",
   "name": "python",
   "nbconvert_exporter": "python",
   "pygments_lexer": "ipython3",
   "version": "3.9.13"
  }
 },
 "nbformat": 4,
 "nbformat_minor": 5
}
