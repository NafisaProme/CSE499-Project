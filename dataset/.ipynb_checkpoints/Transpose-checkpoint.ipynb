{
 "cells": [
  {
   "cell_type": "code",
   "execution_count": 132,
   "id": "3be8a593",
   "metadata": {},
   "outputs": [
    {
     "name": "stdout",
     "output_type": "stream",
     "text": [
      "['Hypertensive Disease', [], [], [], [], [], [], [], [], [], [], [], 'Diabetes', [], [], [], [], [], [], [], [], [], [], [], [], [], 'Depressive Disorder', [], [], [], [], [], [], [], [], [], [], [], [], [], [], [], [], [], [], [], [], 'Coronary Heart Disease', [], [], [], [], [], [], [], [], 'Pneumonia', [], [], [], [], [], [], [], [], [], [], [], [], [], [], [], [], [], [], 'Failure Heart Congestive', [], [], [], [], [], [], 'Accidentcerebrovascular', [], [], [], [], [], [], [], 'Asthma', [], [], [], [], [], [], [], [], 'Myocardial Infarction', [], [], [], [], [], [], [], [], [], [], [], [], [], [], [], [], [], 'Hypercholesterolemia', [], [], [], [], [], [], [], [], [], [], [], [], [], 'Infection', [], [], [], [], [], [], [], [], [], [], [], 'Infection Urinary Tract', [], [], [], [], [], [], [], [], [], [], [], 'Anemia', [], [], [], [], [], [], [], [], [], [], [], [], [], [], [], [], [], [], [], 'Chronic Obstructive Airway Disease', [], [], [], [], [], [], [], [], [], 'Dementia', [], [], [], [], [], [], [], [], [], [], [], [], [], [], [], [], 'Insufficiency Renal', [], [], [], [], [], [], [], [], [], [], [], [], [], [], [], [], 'Confusion', [], [], [], [], [], [], [], [], [], [], [], [], [], [], [], [], [], [], [], 'Degenerativepolyarthritis', [], [], [], [], [], [], [], [], [], [], 'Hypothyroidism', [], [], [], [], [], [], [], [], [], [], [], [], [], [], [], [], [], [], [], [], 'Anxiety State', [], [], [], [], [], [], [], [], [], [], [], [], [], [], [], [], [], [], [], [], [], [], [], 'Primary Malignant Neoplasm', [], [], [], [], [], [], [], [], [], 'Hiv Infections', [], [], [], [], [], [], [], [], [], [], [], [], [], 'Cellulitis', [], [], [], [], [], [], [], [], [], [], [], [], [], 'Gastroesophageal Reflux Disease', [], [], [], [], [], [], [], [], [], [], [], [], [], [], [], [], 'Sepsis (Invertebrate)', [], [], [], [], [], [], [], [], [], [], [], [], [], 'Deep Vein Thrombosis', [], [], [], [], [], [], [], [], [], [], [], 'Dehydration', [], [], [], [], [], [], [], [], [], [], [], [], [], [], 'Neoplasm', [], [], [], [], [], [], [], [], [], [], [], [], [], [], [], 'Embolism Pulmonary', [], [], [], [], [], [], [], [], [], [], [], [], [], [], [], 'Epilepsy', [], [], [], [], [], [], [], [], [], [], [], [], 'Cardiomyopathy', [], [], [], [], [], [], [], [], [], [], [], [], [], [], 'Chronic Kidney Failure', [], [], [], [], [], [], [], [], [], [], [], [], [], [], [], [], [], [], [], [], [], 'Carcinoma', [], [], [], [], [], [], [], [], [], [], [], [], [], [], [], [], [], [], 'Hepatitis C', [], [], [], [], [], [], [], [], [], [], 'Peripheral Vascular Disease', [], [], [], [], [], [], [], [], [], [], 'Psychotic Disorder', [], [], [], [], [], [], [], [], [], [], [], [], [], [], [], [], [], [], [], [], [], [], [], [], 'Hyperlipidemia', [], [], [], [], [], [], [], [], [], [], [], 'Bipolar Disorder', [], [], [], [], [], [], [], [], [], [], [], [], [], [], [], [], [], [], [], [], [], [], [], [], [], [], [], 'Obesity', [], [], [], [], [], [], [], [], [], [], [], 'Ischemia', [], [], [], [], [], [], [], [], [], [], [], [], 'Cirrhosis', [], [], [], [], [], [], [], [], [], [], [], 'Exanthema', [], [], [], [], [], [], [], [], [], [], [], [], [], [], 'Benign Prostatic Hypertrophy', [], [], [], [], [], [], [], [], 'Kidney Failure Acute', [], [], [], [], [], [], [], [], [], 'Mitral Valve Insufficiency', [], [], [], [], [], [], [], [], [], [], [], [], [], 'Arthritis', [], [], [], [], [], [], [], [], [], 'Bronchitis', [], [], [], [], [], [], [], [], [], [], [], [], [], [], [], [], 'Hemiparesis', [], [], [], [], [], [], [], [], [], [], [], [], [], [], [], [], [], 'Osteoporosis', [], [], [], [], [], [], [], [], [], [], [], [], [], 'Transient Ischemic Attack', [], [], [], [], [], [], [], [], [], [], [], [], [], [], [], [], 'Adenocarcinoma', [], [], [], [], [], [], [], [], [], [], [], 'Paranoia', [], [], [], [], [], [], [], [], [], [], [], [], [], [], [], 'Pancreatitis', [], [], [], [], [], [], [], [], 'Incontinence', [], [], [], [], [], [], [], [], [], [], [], [], [], [], 'Paroxysmaldyspnea', [], [], [], [], [], [], [], [], [], [], 'Hernia', [], [], [], [], [], [], [], [], [], [], [], [], [], [], [], 'Carcinoma Prostate', [], [], [], [], [], [], [], [], [], [], [], [], [], [], [], [], [], [], [], [], [], [], 'Edema Pulmonary', [], [], [], [], [], [], [], [], [], [], [], [], [], [], [], 'Lymphatic Diseases', [], [], [], [], [], [], [], [], [], [], [], [], [], [], [], 'Stenosis Aortic Valve', [], [], [], [], [], [], [], [], [], [], 'Carcinoma Breast', [], [], [], [], [], [], [], [], [], [], [], 'Schizophrenia', [], [], [], [], [], [], [], [], [], [], 'Diverticulitis', [], [], [], [], [], [], [], [], [], [], [], [], [], [], [], [], [], [], [], 'Overload Fluid', [], [], [], [], [], [], [], [], [], [], 'Ulcer Peptic', [], [], [], [], [], [], [], [], [], [], [], 'Osteomyelitis', [], [], [], [], [], [], [], [], [], [], [], 'Gastritis', [], [], [], [], [], [], [], [], [], [], [], 'Bacteremia', [], [], [], [], [], [], [], [], [], [], [], [], [], [], [], 'Failure Kidney', [], [], [], [], [], [], [], [], [], [], [], [], 'Sickle Cell Anemia', [], [], [], [], [], [], [], [], [], [], 'Failure Heart', [], [], [], [], [], [], [], [], [], [], 'Upper Respiratory Infection', [], [], [], [], [], [], [], [], [], [], [], [], [], [], [], [], [], [], [], [], [], [], [], [], [], [], [], 'Hepatitis', [], [], [], [], [], [], [], [], [], [], [], 'Hypertension Pulmonary', [], [], [], [], [], [], [], [], 'Deglutition Disorder', [], [], [], [], [], [], [], [], [], [], [], [], [], [], 'Gout', [], [], [], [], [], [], [], [], [], 'Thrombocytopaenia', [], [], [], [], [], [], [], [], 'Hypoglycemia', [], [], [], [], [], [], [], [], [], 'Pneumonia Aspiration', [], [], [], [], [], [], [], [], [], [], [], [], [], [], [], 'Colitis', [], [], [], [], [], [], [], [], [], [], [], [], 'Diverticulosis', [], [], [], [], [], [], [], [], [], [], [], [], [], [], 'Suicide Attempt', [], [], [], [], [], [], [], [], [], [], [], [], [], [], [], [], [], [], [], [], [], [], 'Pneumocystiscariniipneumonia', [], [], [], [], [], [], [], [], [], [], [], [], [], [], [], [], [], 'Hepatitis B', [], [], [], [], [], [], [], [], 'Parkinson Disease', [], [], [], [], [], [], [], [], [], [], [], [], [], [], [], [], 'Lymphoma', [], [], [], [], [], [], [], [], [], [], [], [], 'Hyperglycemia', [], [], [], [], [], [], [], [], [], [], 'Encephalopathy', [], [], [], [], [], [], [], [], [], [], [], [], 'Tricuspid Valve Insufficiency', [], [], [], [], [], [], [], [], [], \"Alzheimer'S Disease\", [], [], [], [], [], [], [], [], [], [], [], [], [], [], [], [], 'Oralcandidiasis', [], [], [], [], [], [], [], [], [], [], [], [], [], [], 'Neuropathy', [], [], [], [], [], [], [], [], [], 'Kidney Disease', [], [], [], [], [], 'Fibroid Tumor', [], [], [], [], [], [], [], [], [], [], [], 'Glaucoma', [], [], [], [], [], [], [], [], [], 'Neoplasm Metastasis', [], [], [], [], [], [], [], [], [], 'Carcinoma Colon', [], [], [], [], [], [], [], [], [], [], [], [], [], [], 'Ketoacidosis Diabetic', [], [], [], [], [], [], [], [], [], [], [], [], [], [], 'Tonic-Clonic Seizures', [], [], [], [], [], [], [], [], [], [], [], [], [], [], [], [], 'Malignantneoplasms', [], [], [], [], [], [], [], [], [], [], [], [], [], 'Respiratory Failure', [], [], [], [], [], [], [], [], [], [], [], [], [], [], 'Melanoma', [], [], [], [], [], [], [], [], 'Gastroenteritis', [], [], [], [], [], [], [], [], [], [], [], 'Carcinoma Of Lung', [], [], [], [], [], [], [], [], [], [], [], [], [], [], 'Manic Disorder', [], [], [], [], [], [], [], [], [], [], [], [], [], [], 'Personality Disorder', [], [], [], [], [], [], [], [], [], [], [], [], [], [], [], [], [], [], 'Primary Carcinoma Of The Liver Cells', [], [], [], [], [], [], [], [], [], [], [], [], [], [], [], [], [], 'Emphysema Pulmonary', [], [], [], [], [], [], [], [], [], [], [], [], [], [], [], [], [], [], [], [], 'Hemorrhoids', [], [], [], [], [], [], [], [], [], [], [], [], [], [], [], 'Spasm Bronchial', [], [], [], [], [], [], [], [], [], [], [], [], [], [], [], [], 'Aphasia', [], [], [], [], [], [], [], 'Obesity Morbid', [], [], [], [], [], [], [], [], [], [], [], [], 'Pyelonephritis', [], [], [], [], [], [], [], [], [], [], [], 'Endocarditis', [], [], [], [], [], [], [], [], [], [], [], [], [], [], [], [], 'Pericardial Effusion Body Substance', [], [], [], [], [], [], [], [], [], [], [], 'Chronic Alcoholic Intoxication', [], [], [], [], [], [], [], [], [], [], [], [], [], [], 'Pneumothorax', [], [], [], [], [], [], [], 'Delirium', [], [], [], [], [], [], [], [], [], [], [], 'Neutropenia', [], [], [], [], [], [], [], [], [], [], [], [], 'Hyperbilirubinemia', [], [], [], [], [], [], [], 'Influenza', [], [], [], [], [], [], [], [], [], [], [], [], [], [], [], [], [], [], [], [], 'Dependence', [], [], [], [], [], [], [], [], [], [], [], [], 'Thrombus', [], [], [], [], [], [], [], [], [], [], 'Cholecystitis', [], [], [], [], [], [], [], [], [], [], [], [], [], [], [], [], 'Herniahiatal', [], [], [], [], [], [], [], [], [], [], [], [], [], [], 'Migraine Disorders', [], [], [], [], [], [], 'Pancytopenia', [], [], [], [], [], [], 'Biliary Calculus', [], [], [], [], [], [], [], [], [], [], 'Tachycardia Sinus', [], [], [], [], [], [], [], [], [], [], 'Ileus', [], [], [], [], [], [], [], [], [], [], [], [], [], [], 'Adhesion', [], [], [], [], [], [], [], [], [], [], [], [], 'Delusion', [], [], [], [], [], [], [], [], [], [], [], [], [], [], [], [], [], [], [], [], 'Affect Labile', [], [], [], [], [], [], [], 'Decubitus Ulcer', [], []]\n"
     ]
    }
   ],
   "source": [
    "import pandas as pd\n",
    "import math\n",
    "\n",
    "df = pd.read_csv('data_2.csv')\n",
    "disease_list = df.iloc[:, :1].values.tolist()\n",
    "# disease_list = [item[0] for item in disease_list if pd.notna(item[0])]\n",
    "# print(disease_list)\n",
    "\n",
    "symptoms_list = df.iloc[:, 1:2].values.tolist()\n",
    "# print(len(disease_list))\n",
    "\n",
    "symptom = []\n",
    "disease_data = []\n",
    "for i in range(len(disease_list)):\n",
    "    x = str(disease_list[i][0])\n",
    "    if x == 'nan':\n",
    "        symptom\n",
    "        disease_data.append()d\n",
    "    else:\n",
    "        symptom = []\n",
    "        disease_data.append(x)\n",
    "        \n",
    "print(disease_data)"
   ]
  },
  {
   "cell_type": "code",
   "execution_count": null,
   "id": "da2a47ce",
   "metadata": {},
   "outputs": [],
   "source": []
  }
 ],
 "metadata": {
  "kernelspec": {
   "display_name": "Python 3 (ipykernel)",
   "language": "python",
   "name": "python3"
  },
  "language_info": {
   "codemirror_mode": {
    "name": "ipython",
    "version": 3
   },
   "file_extension": ".py",
   "mimetype": "text/x-python",
   "name": "python",
   "nbconvert_exporter": "python",
   "pygments_lexer": "ipython3",
   "version": "3.9.13"
  }
 },
 "nbformat": 4,
 "nbformat_minor": 5
}
