{
 "cells": [
  {
   "cell_type": "code",
   "execution_count": 61,
   "id": "922d2221",
   "metadata": {},
   "outputs": [
    {
     "name": "stdout",
     "output_type": "stream",
     "text": [
      "['Decubitus Ulcer', {' visual_disturbances': 0, 'ecchymosis': 0, 'out of breath': 0, 'lung nodule': 0, 'colic abdominal': 0, ' yellowing_of_eyes': 0, ' pain_during_bowel_movements': 0, 'fall': 0, 'hoard': 0, 'fremitus': 0, 'intoxication': 0, 'extrapyramidal sign': 0, 'pneumatouria': 0, ' scurring': 0, ' acidity': 0, 'orthopnea': 0, 'noisy respiration': 0, 'prostatism': 0, 'scar tissue': 0, 'burning sensation': 0, 'alcohol binge episode': 0, 'hypercapnia': 0, 'nasal flaring': 0, ' weakness_in_limbs': 0, 'pulse absent': 0, 'wheelchair bound': 0, 'mass in breast': 0, ' spinning_movements': 0, 'milky': 0, ' ulcers_on_tongue': 0, ' palpitations': 0, ' irritation_in_anus': 0, ' bloody_stool': 0, 'sedentary': 0, 'hemiplegia': 0, 'cardiovascular event': 0, 'nasal discharge present': 0, ' weakness_of_one_body_side': 0, 'fear of falling': 0, ' receiving_blood_transfusion': 0, ' internal_itching': 0, 'coordination abnormal': 0, 'paraparesis': 0, 'syncope': 0, 'nausea and vomiting': 0, ' blood_in_sputum': 0, 'verbal auditory hallucinations': 0, 'hirsutism': 0, 'facial paresis': 0, ' dizziness': 0, 'exhaustion': 0, 'seizure': 0, 'consciousness clear': 0, 'focal seizures': 0, 'lesion': 0, 'sore to touch': 0, 'pulsusparadoxus': 0, ' vomiting': 0, 'ambidexterity': 0, \"Heberden's node\": 0, 'food intolerance': 0, ' fatigue': 0, 'worry': 0, 'thicken': 0, 'urinoma': 0, 'bedridden': 0, 'groggy': 0, 'asymptomatic': 0, 'haemorrhage': 0, 'hypersomnolence': 0, 'paralyse': 0, 'rale': 0, ' swollen_blood_vessels': 0, 'itching': 0, 'hypokalemia': 0, 'paresis': 0, 'fatigability': 0, 'flare': 0, 'gag': 0, 'hoarseness': 0, 'has religious belief': 0, 'decreased stool caliber': 0, 'hypocalcemia result': 0, 'behavior showing increased motor activity': 0, 'apyrexial': 0, ' yellow_crust_ooze': 0, 'leftatrialhypertrophy': 0, 'unable to concentrate': 0, 'hot flush': 0, 'heavy feeling': 0, 'scleralicterus': 0, 'general unsteadiness': 0, 'decompensation': 0, 'hypothermia, natural': 0, ' loss_of_appetite': 0, 'hypometabolism': 0, 'urgency ofmicturition': 0, ' anxiety': 0, 'cushingoidhabitus': 0, 'anosmia': 0, 'terrify': 0, 'emphysematous change': 0, 'lethargy': 0, 'pressure chest': 0, 'para 1': 0, 'retch': 0, 'hacking cough': 0, 'myoclonus': 0, 'irritable mood': 0, 'metastatic lesion': 0, ' lack_of_concentration': 0, 'abortion': 0, 'feeling strange': 0, 'hypoxemia': 0, ' knee_pain': 0, 'breath-holding spell': 0, 'hemodynamically stable': 0, 'non-productive cough': 0, 'sciatica': 0, ' congestion': 0, 'incoherent': 0, 'absences finding': 0, 'chill': 0, 'pallor': 0, 'painful swallowing': 0, 'rapid shallow breathing': 0, 'enuresis': 0, 'dyspnea on exertion': 0, 'cachexia': 0, 'systolic ejection murmur': 0, ' neck_pain': 0, 'feeling suicidal': 0, 'fecaluria': 0, 'adverse effect': 0, 'vertigo': 0, ' cold_hands_and_feets': 0, 'unsteady gait': 0, ' coma': 0, 'dullness': 0, ' increased_appetite': 0, 'retropulsion': 0, 'impaired cognition': 0, 'frail': 1, ' polyuria': 0, 'wheezing': 0, 'titubation': 0, 'rolling of eyes': 0, ' swelling_joints': 0, 'arthralgia': 0, 'flatulence': 0, 'speech slurred': 0, 'welt': 0, 'debilitation': 0, 'hypesthesia': 0, 'hyponatremia': 0, 'snuffle': 0, 'spasm': 0, 'labored breathing': 0, ' enlarged_thyroid': 0, 'dysuria': 0, 'hepatomegaly': 0, ' runny_nose': 0, 'orthostasis': 0, 'disturbed family': 0, 'urge incontinence': 0, 'bradycardia': 0, ' irritability': 0, ' skin_rash': 0, 'mood depressed': 0, 'hematochezia': 0, 'monocytosis': 0, 'neck stiffness': 0, 'breakthrough pain': 0, 'nervousness': 0, 'red blotches': 0, ' dischromic _patches': 0, ' phlegm': 0, \"Stahli's line\": 0, 'heme positive': 0, 'distended abdomen': 0, 'bradykinesia': 0, ' blister': 0, 'angina pectoris': 0, 'stridor': 0, 'egophony': 0, 'pain chest': 0, ' high_fever': 0, ' cramps': 0, 'vomiting': 0, ' nausea': 0, 'hypotension': 0, 'frothy sputum': 0, 'superimposition': 0, 'spontaneous rupture of membranes': 0, ' chills': 0, 'hypokinesia': 0, 'hematocrit decreased': 0, 'vision blurred': 0, 'cicatrisation': 0, ' sunken_eyes': 0, ' sinus_pressure': 0, 'abdominal bloating': 0, ' receiving_unsterile_injections': 0, ' abnormal_menstruation': 0, 'weepiness': 0, 'r wave feature': 0, 'abnormally hard consistency': 0, 'renal angle tenderness': 0, 'pin-point pupils': 0, ' dehydration': 0, 'hypoalbuminemia': 0, 'clumsiness': 0, 'slowing of urinary stream': 0, 'difficulty': 0, 'suicidal': 0, 'stupor': 0, 'sleeplessness': 0, ' hip_joint_pain': 0, ' shivering': 0, ' lethargy': 0, ' extra_marital_contacts': 0, 'feels hot/feverish': 0, ' pus_filled_pimples': 0, 'ache': 0, 'moody': 0, 'atypia': 0, 'rest pain': 0, 'asterixis': 0, 'todd paralysis': 0, 'projectile vomiting': 0, 'pruritus': 0, 'extreme exhaustion': 0, 'fever': 1, 'difficulty passing urine': 0, 'moan': 0, 'lightheadedness': 0, 'low back pain': 0, 'cough': 0, 'indifferent mood': 0, 'hemianopsia homonymous': 0, 'haemoptysis': 0, 'unhappy': 0, 'unresponsiveness': 0, ' mucoid_sputum': 0, ' sweating': 0, ' history_of_alcohol_consumption': 0, 'withdraw': 0, ' mood_swings': 0, 'presence of q wave': 0, 'nightmare': 0, 'immobile': 0, 'pain foot': 0, 'dysesthesia': 0, 'polymyalgia': 0, ' spotting_ urination': 0, 'abscess bacterial': 0, 'mydriasis': 0, 'formication': 0, 'sputum purulent': 0, ' inflammatory_nails': 0, ' swelling_of_stomach': 0, 'dizzy spells': 0, 'constipation': 0, ' weight_gain': 0, ' obesity': 0, ' redness_of_eyes': 0, 'soft tissue swelling': 0, ' continuous_sneezing': 0, ' blurred_and_distorted_vision': 0, 'hyperkalemia': 0, 'dysarthria': 0, 'decreased body weight': 0, 'proteinemia': 0, 'abdomen acute': 0, ' mild_fever': 0, 'elation': 0, 'tumor cell invasion': 0, 'passed stones': 0, 'alcoholic withdrawal symptoms': 0, ' swollen_legs': 0, 'symptom aggravating factors': 0, 'nonsmoker': 0, 'hallucinations auditory': 0, 'hyperventilation': 0, 'dizziness': 0, ' drying_and_tingling_lips': 0, 'achalasia': 0, 'clammy skin': 0, ' silver_like_dusting': 0, 'sweating increased': 0, ' muscle_pain': 0, 'jugular venous distention': 0, 'tonic seizures': 0, 'abdominal tenderness': 0, ' rusty_sputum': 0, 'palpitation': 0, ' stiff_neck': 0, ' movement_stiffness': 0, 'underweight': 0, 'overweight': 0, 'guaiac positive': 0, ' throat_irritation': 0, ' chest_pain': 0, 'posturing': 0, 'polyuria': 0, 'yellow sputum': 0, 'barking cough': 0, 'unconscious state': 0, 'unwell': 0, 'energy increased': 0, 'gurgle': 0, 'monoclonal': 0, 'headache': 0, 'tremor': 0, 'bruit': 0, 'general discomfort': 0, 'cyanosis': 0, 'catatonia': 0, ' belly_pain': 0, ' swelled_lymph_nodes': 0, ' fast_heart_rate': 0, ' puffy_face_and_eyes': 0, 'rhonchus': 0, 'large-for-dates fetus': 0, ' small_dents_in_nails': 0, ' red_sore_around_nose': 0, ' weight_loss': 0, 'decreased translucency': 0, ' muscle_wasting': 0, 'asthenia': 0, 'bowel sounds decreased': 0, 'cystic lesion': 0, 'blanch': 0, 'pain back': 0, 'tenesmus': 0, 'pain': 0, 'oliguria': 0, 'hypoproteinemia': 0, ' dark_urine': 0, 'no known drug allergies': 0, 'swelling': 0, 'previous pregnancies 2': 0, 'paresthesia': 0, 'posteriorrhinorrhea': 0, 'night sweat': 0, ' passage_of_gases': 0, 'mediastinal shift': 0, 'hypertonicity': 0, 'pleuritic pain': 0, ' loss_of_smell': 0, 'verbally abusive behavior': 0, ' cough': 0, 'inappropriate affect': 0, 'prostate tender': 0, ' patches_in_throat': 0, 'hematuria': 0, 'floppy': 0, 'feeling hopeless': 0, ' blackheads': 0, 'loose associations': 0, ' family_history': 0, 'gravida 0': 0, ' brittle_nails': 0, 'breech presentation': 0, ' foul_smell_of urine': 0, 'polydypsia': 0, 'stuffy nose': 0, 'hallucinations visual': 0, 'phonophobia': 0, ' bladder_discomfort': 0, 'photopsia': 0, ' toxic_look_(typhos)': 0, 'sleepy': 0, 'numbness of hand': 0, 'feces in rectum': 0, 'scratch marks': 0, 'heavy legs': 0, 'clonus': 0, ' red_spots_over_body': 0, 'aphagia': 0, ' malaise': 0, 'sneeze': 0, ' diarrhoea': 0, 'nausea': 0, 'patient non compliance': 0, 'urinary hesitation': 0, 'systolic murmur': 1, 'awakening early': 0, 'distress respiratory': 0, 'giddy mood': 0, 'poor feeding': 0, 'pustule': 0, 'abnormal sensation': 0, ' yellowish_skin': 0, ' breathlessness': 0, 'pericardial friction rub': 0, ' loss_of_balance': 0, 'agitation': 0, 'mass of body structure': 0, 'catching breath': 0, 'stiffness': 0, ' acute_liver_failure': 0, 'hypersomnia': 0, ' slurred_speech': 0, ' altered_sensorium': 0, 'tachypnea': 0, 'hyperhidrosis disorder': 0, 'muscle twitch': 0, ' continuous_feel_of_urine': 0, 'aura': 0, 'pain in lower limb': 0, 'shooting pain': 0, 'blackout': 0, 'myalgia': 0, ' headache': 0, ' indigestion': 0, 'hyperacusis': 0, 'room spinning': 0, 'neologism': 0, 'hepatosplenomegaly': 0, 't wave inverted': 0, 'dyspnea': 0, 'regurgitates after swallowing': 0, 'numbness': 0, 'air fluid level': 0, 'ataxia': 0, 'sensory discomfort': 0, 'no status change': 0, ' swollen_extremeties': 0, 'diarrhea': 0, 'pansystolic murmur': 0, 'tremor resting': 0, 'chest tightness': 0, 'hypotonic': 0, ' stomach_bleeding': 0, ' excessive_hunger': 0, ' painful_walking': 0, 'fatigue': 0, 'hyperemesis': 0, 'uncoordination': 0, 'macerated skin': 0, 'qt interval prolonged': 0, 'transaminitis': 0, 'ascites': 0, 'productive cough': 0, 'macule': 0, ' pain_behind_the_eyes': 0, ' constipation': 0, 'pain neck': 0, 'para 2': 0, 'homelessness': 0, ' nodal_skin_eruptions': 0, 'drool': 0, 'poor dentition': 0, 'throat sore': 0, 'heartburn': 0, 'stinging sensation': 0, 'chest discomfort': 0, 'weight gain': 0, 'hunger': 0, ' muscle_weakness': 0, 'intermenstrual heavy bleeding': 0, 'rigor - temperature-associated observation': 0, 'gravida 10': 0, ' skin_peeling': 0, 'choke': 0, 'malaise': 0, 'panic': 0, 'splenomegaly': 0, 'excruciating pain': 0, ' pain_in_anal_region': 0, 'sniffle': 0, 'snore': 0, ' burning_micturition': 0, 'satiety early': 0, 'dyspareunia': 0, \"Murphy's sign\": 0, 'motor retardation': 0, 'green sputum': 0, 'sinus rhythm': 0, ' stomach_pain': 0, ' depression': 0, 'rhd positive': 0, 'pain abdominal': 0, 'homicidal thoughts': 0, 'tinnitus': 0, 'drowsiness': 0, 'gasping for breath': 0, 'dysdiadochokinesia': 0, 'photophobia': 0, 'rambling speech': 0, ' abdominal_pain': 0, 'breath sounds decreased': 0, 'anorexia': 0, 'cardiomegaly': 0, 'throbbing sensation quality': 0, 'lip smacking': 0, 'claudication': 0, 'transsexual': 0, 'shortness of breath': 0, ' yellow_urine': 0, 'redness': 0, 'behavior hyperactive': 0, ' prominent_veins_on_calf': 0, 'mental status changes': 0, 'side pain': 0, ' back_pain': 0, 'estrogen use': 0, 'history of - blackout': 0, 'disequilibrium': 0, 'tired': 0, 'primigravida': 0, 'st segment depression': 0, ' restlessness': 0, ' unsteadiness': 0, 'bleeding of vagina': 0, ' distention_of_abdomen': 0, 'erythema': 0, 'flushing': 0, 'charleyhorse': 0, 'hydropneumothorax': 0, ' bruising': 0, ' joint_pain': 0, 'st segment elevation': 0, 'stool color yellow': 0, 'prodrome': 0, ' fluid_overload': 0, ' watering_from_eyes': 0, ' irregular_sugar_level': 0}]\n"
     ]
    }
   ],
   "source": [
    "import pandas as pd\n",
    "\n",
    "# Read the CSV file\n",
    "df = pd.read_csv(\"merged_data.csv\")\n",
    "\n",
    "# Extract the 'Disease' column using iloc and print all the diseases\n",
    "diseases = list(df.iloc[:, 0])\n",
    "\n",
    "# Initialize an empty set to store unique symptoms\n",
    "all_possible_symptoms = set()\n",
    "\n",
    "# Iterate through the DataFrame to collect symptoms\n",
    "for index, row in df.iterrows():\n",
    "    # Skip the first column which is 'Disease'\n",
    "    for symptom in row[1:]:\n",
    "        if not pd.isna(symptom):\n",
    "            all_possible_symptoms.add(symptom)\n",
    "ind = 0\n",
    "# Convert the set of unique symptoms to a list\n",
    "symptoms = list(all_possible_symptoms)\n",
    "# print(symptoms)\n",
    "\n",
    "for index, row in df.iterrows():\n",
    "    data = []\n",
    "    disease_data_map = {symptom: 0 for symptom in symptoms}\n",
    "    disease_symptoms = row[1:]    \n",
    "    \n",
    "    data.append(diseases[ind])\n",
    "    ind += 1\n",
    "    \n",
    "    for symptom in disease_symptoms:\n",
    "        if not pd.isna(symptom):\n",
    "            disease_data_map[symptom] = 1\n",
    "        \n",
    "    data.append(disease_data_map)"
   ]
  },
  {
   "cell_type": "code",
   "execution_count": 63,
   "id": "c78a9de2",
   "metadata": {},
   "outputs": [],
   "source": [
    "import pandas as pd\n",
    "\n",
    "# Read the CSV file\n",
    "df = pd.read_csv(\"merged_data.csv\")\n",
    "\n",
    "# Extract the 'Disease' column using iloc and print all the diseases\n",
    "diseases = list(df.iloc[:, 0])\n",
    "\n",
    "# Initialize an empty set to store unique symptoms\n",
    "all_possible_symptoms = set()\n",
    "\n",
    "# Iterate through the DataFrame to collect symptoms\n",
    "for index, row in df.iterrows():\n",
    "    # Skip the first column which is 'Disease'\n",
    "    for symptom in row[1:]:\n",
    "        if not pd.isna(symptom):\n",
    "            all_possible_symptoms.add(symptom)\n",
    "\n",
    "# Convert the set of unique symptoms to a list\n",
    "symptoms = list(all_possible_symptoms)\n",
    "\n",
    "# Create an empty list to store the data\n",
    "output_data = []\n",
    "\n",
    "for index, row in df.iterrows():\n",
    "    disease_data = [row[0]]  # Initialize with the disease name\n",
    "    disease_symptoms = row[1:]\n",
    "    \n",
    "    for symptom in symptoms:\n",
    "        if symptom in disease_symptoms.values:\n",
    "            disease_data.append(1)\n",
    "        else:\n",
    "            disease_data.append(0)\n",
    "    \n",
    "    # Append the data to the output_data list\n",
    "    output_data.append(disease_data)\n",
    "\n",
    "# Create a DataFrame from the output_data list\n",
    "output_df = pd.DataFrame(output_data, columns=[\"Disease\"] + symptoms)\n",
    "\n",
    "# Write the DataFrame to a CSV file\n",
    "output_df.to_csv(\"output.csv\", index=False)\n"
   ]
  }
 ],
 "metadata": {
  "kernelspec": {
   "display_name": "Python 3 (ipykernel)",
   "language": "python",
   "name": "python3"
  },
  "language_info": {
   "codemirror_mode": {
    "name": "ipython",
    "version": 3
   },
   "file_extension": ".py",
   "mimetype": "text/x-python",
   "name": "python",
   "nbconvert_exporter": "python",
   "pygments_lexer": "ipython3",
   "version": "3.9.13"
  }
 },
 "nbformat": 4,
 "nbformat_minor": 5
}
