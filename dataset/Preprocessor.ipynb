{
 "cells": [
  {
   "cell_type": "code",
   "execution_count": 5,
   "id": "922d2221",
   "metadata": {},
   "outputs": [
    {
     "name": "stdout",
     "output_type": "stream",
     "text": [
      "['bruit', 'yellow sputum', 'hyponatremia', 'terrify', ' rusty_sputum', 'fear of falling', ' swollen_legs', 'abdomen acute', 'hypokinesia', 'numbness', 'intermenstrual heavy bleeding', 'difficulty', 'orthostasis', 'nausea', ' cramps', 'flatulence', ' pus_filled_pimples', 'angina pectoris', 'barking cough', 'hyperemesis', 'hematochezia', 'transaminitis', 'nervousness', 'decreased stool caliber', ' fatigue', 'thicken', ' yellowing_of_eyes', 'hirsutism', 'non-productive cough', 'pain', 'sleeplessness', 'hematuria', 'unsteady gait', 'difficulty passing urine', 'hydropneumothorax', ' small_dents_in_nails', 'hyperkalemia', 'abdominal tenderness', ' stomach_bleeding', ' chest_pain', ' enlarged_thyroid', 'regurgitates after swallowing', ' swelling_joints', 'hemiplegia', ' bruising', 'hypothermia, natural', 'noisy respiration', 'systolic ejection murmur', ' painful_walking', ' loss_of_balance', 'stool color yellow', 'lightheadedness', 'rolling of eyes', 'claudication', 'tumor cell invasion', 'food intolerance', ' drying_and_tingling_lips', \"Murphy's sign\", ' sunken_eyes', ' bloody_stool', 'withdraw', ' muscle_weakness', 'aura', ' altered_sensorium', 'tinnitus', 'underweight', ' yellowish_skin', 'syncope', 'indifferent mood', ' skin_peeling', 'pain foot', 'hallucinations auditory', 'absences finding', ' silver_like_dusting', 'awakening early', 'pericardial friction rub', ' abnormal_menstruation', ' movement_stiffness', 'pain neck', ' irritation_in_anus', 'hypometabolism', 'giddy mood', 'asymptomatic', 'decompensation', 'alcoholic withdrawal symptoms', 'snore', 'no status change', 'uncoordination', ' malaise', 'myoclonus', 'metastatic lesion', 'gurgle', 'gasping for breath', 'fatigability', 'fever', 'lesion', ' internal_itching', ' mood_swings', 'dysesthesia', ' red_spots_over_body', 'debilitation', 'exhaustion', 'urge incontinence', ' pain_behind_the_eyes', ' brittle_nails', 'verbal auditory hallucinations', ' blurred_and_distorted_vision', ' scurring', 'dizziness', 'scar tissue', 'prodrome', ' cold_hands_and_feets', 'seizure', ' acidity', 'clumsiness', ' shivering', 'room spinning', 'dizzy spells', 'milky', ' burning_micturition', 'frail', 'frothy sputum', ' slurred_speech', 'st segment depression', 'paraparesis', ' muscle_wasting', 'verbally abusive behavior', 'macule', 'pansystolic murmur', 'ataxia', 'oliguria', 'energy increased', 'mydriasis', 'dullness', 'breath-holding spell', 'loose associations', 'decreased translucency', 'dyspnea on exertion', 'ambidexterity', 'slowing of urinary stream', ' phlegm', 'diarrhea', 'retch', 'hemodynamically stable', 'muscle twitch', 'lip smacking', 'elation', 'disturbed family', 'extrapyramidal sign', ' hip_joint_pain', 'pruritus', 'shortness of breath', 'dysdiadochokinesia', 'behavior showing increased motor activity', 'has religious belief', ' continuous_feel_of_urine', 'mediastinal shift', 'unhappy', 'hyperacusis', 'fremitus', 'sensory discomfort', 'enuresis', 'r wave feature', 'excruciating pain', 'asterixis', 'bleeding of vagina', 'burning sensation', 'decreased body weight', 'posturing', 'pulsusparadoxus', 'sore to touch', ' receiving_unsterile_injections', 'low back pain', 'productive cough', 'poor dentition', 'para 1', ' weight_loss', 'chest tightness', 'behavior hyperactive', 'tremor resting', 'macerated skin', ' spotting_ urination', 'neologism', 'vomiting', 'bradykinesia', 'weepiness', 'arthralgia', 'cyanosis', 't wave inverted', 'hypercapnia', 'presence of q wave', 'cushingoidhabitus', 'nightmare', ' sinus_pressure', 'chest discomfort', ' muscle_pain', ' mild_fever', 'hypokalemia', 'polymyalgia', 'cachexia', ' joint_pain', 'throat sore', 'pallor', 'stuffy nose', 'mental status changes', 'rhonchus', 'paresis', ' blood_in_sputum', 'worry', 'intoxication', 'choke', ' unsteadiness', 'feeling hopeless', 'stiffness', 'todd paralysis', ' yellow_urine', 'hypotonic', 'cicatrisation', 'no known drug allergies', ' back_pain', ' irregular_sugar_level', ' swelled_lymph_nodes', 'egophony', 'fall', 'overweight', 'retropulsion', ' nodal_skin_eruptions', 'speech slurred', ' swollen_extremeties', 'groggy', 'haemoptysis', ' dark_urine', ' blackheads', 'rest pain', 'hypoxemia', 'spasm', 'heavy legs', ' fast_heart_rate', 'night sweat', 'hypocalcemia result', 'large-for-dates fetus', 'gravida 10', 'bradycardia', 'nonsmoker', 'titubation', ' ulcers_on_tongue', 'agitation', 'prostate tender', 'paralyse', 'disequilibrium', 'clonus', 'tonic seizures', 'extreme exhaustion', 'pain chest', 'atypia', 'hypoalbuminemia', 'distress respiratory', 'tremor', 'hallucinations visual', 'breath sounds decreased', ' toxic_look_(typhos)', 'systolic murmur', 'homicidal thoughts', 'abdominal bloating', 'vertigo', ' family_history', 'ecchymosis', ' distention_of_abdomen', 'hoard', 'wheelchair bound', 'renal angle tenderness', 'dyspnea', ' fluid_overload', 'urgency ofmicturition', 'cardiovascular event', 'snuffle', 'hepatomegaly', 'hypoproteinemia', 'rigor - temperature-associated observation', ' stiff_neck', 'qt interval prolonged', ' redness_of_eyes', 'immobile', 'urinoma', 'coordination abnormal', 'cough', 'lethargy', ' constipation', ' puffy_face_and_eyes', ' stomach_pain', 'unconscious state', 'feels hot/feverish', 'focal seizures', 'stinging sensation', ' visual_disturbances', 'pain in lower limb', 'breakthrough pain', 'irritable mood', ' red_sore_around_nose', 'history of - blackout', 'feeling strange', 'abnormally hard consistency', ' weakness_of_one_body_side', 'redness', 'feeling suicidal', 'homelessness', \"Stahli's line\", ' pain_during_bowel_movements', 'impaired cognition', 'paresthesia', 'clammy skin', 'pain abdominal', 'numbness of hand', 'inappropriate affect', 'motor retardation', 'heavy feeling', 'proteinemia', 'panic', ' history_of_alcohol_consumption', 'anosmia', 'chill', 'pneumatouria', 'pleuritic pain', 'constipation', ' inflammatory_nails', 'prostatism', ' neck_pain', 'dysarthria', 'pressure chest', ' abdominal_pain', 'tenesmus', 'cardiomegaly', ' spinning_movements', ' prominent_veins_on_calf', 'heme positive', ' polyuria', ' anxiety', 'adverse effect', ' nausea', 'transsexual', ' coma', 'green sputum', 'patient non compliance', ' weakness_in_limbs', 'headache', ' depression', 'ache', ' loss_of_appetite', 'polydypsia', 'mass of body structure', 'charleyhorse', 'pulse absent', ' patches_in_throat', 'rambling speech', ' dehydration', 'nasal flaring', 'general discomfort', 'painful swallowing', 'myalgia', 'catching breath', 'dysuria', ' diarrhoea', 'hoarseness', 'achalasia', 'satiety early', ' indigestion', 'scleralicterus', ' throat_irritation', 'moan', 'cystic lesion', 'orthopnea', 'abscess bacterial', 'pustule', ' weight_gain', 'haemorrhage', 'pain back', 'incoherent', 'tachypnea', 'shooting pain', 'floppy', 'photophobia', ' headache', ' foul_smell_of urine', 'apyrexial', 'sneeze', 'gravida 0', ' restlessness', ' obesity', 'lung nodule', ' dischromic _patches', 'sweating increased', ' sweating', ' loss_of_smell', 'weight gain', 'hacking cough', 'welt', 'hepatosplenomegaly', 'hypersomnolence', 'general unsteadiness', 'anorexia', ' blister', 'estrogen use', 'wheezing', 'hypesthesia', 'vision blurred', ' belly_pain', ' irritability', ' palpitations', 'alcohol binge episode', 'st segment elevation', 'hypotension', 'erythema', 'unwell', 'photopsia', ' continuous_sneezing', ' receiving_blood_transfusion', 'abnormal sensation', ' swollen_blood_vessels', 'posteriorrhinorrhea', 'nausea and vomiting', 'scratch marks', ' increased_appetite', 'sleepy', 'hyperhidrosis disorder', ' high_fever', 'gag', 'blanch', ' watering_from_eyes', 'stupor', ' vomiting', ' yellow_crust_ooze', ' chills', 'palpitation', 'bowel sounds decreased', 'passed stones', ' breathlessness', 'itching', 'stridor', 'distended abdomen', 'facial paresis', 'rale', 'soft tissue swelling', ' lack_of_concentration', 'red blotches', 'symptom aggravating factors', ' knee_pain', 'aphagia', 'abortion', 'hemianopsia homonymous', 'asthenia', 'spontaneous rupture of membranes', 'monoclonal', 'neck stiffness', ' swelling_of_stomach', \"Heberden's node\", 'feces in rectum', ' extra_marital_contacts', 'phonophobia', 'consciousness clear', ' dizziness', 'mass in breast', 'formication', 'swelling', 'projectile vomiting', 'hot flush', ' lethargy', 'drool', 'rapid shallow breathing', 'para 2', 'unresponsiveness', 'side pain', 'sniffle', 'hematocrit decreased', 'poor feeding', 'suicidal', 'bedridden', ' excessive_hunger', 'sinus rhythm', 'sedentary', 'emphysematous change', 'dyspareunia', 'superimposition', ' acute_liver_failure', 'colic abdominal', 'splenomegaly', 'nasal discharge present', 'flare', 'unable to concentrate', 'previous pregnancies 2', ' passage_of_gases', 'guaiac positive', 'hyperventilation', 'mood depressed', ' mucoid_sputum', 'flushing', 'fatigue', ' runny_nose', 'malaise', 'fecaluria', 'labored breathing', 'breech presentation', ' cough', 'sciatica', 'drowsiness', 'ascites', 'leftatrialhypertrophy', 'air fluid level', ' pain_in_anal_region', 'hunger', 'pin-point pupils', 'heartburn', ' bladder_discomfort', 'throbbing sensation quality', 'polyuria', 'sputum purulent', 'catatonia', 'hypersomnia', 'monocytosis', 'urinary hesitation', 'tired', ' skin_rash', 'primigravida', 'hypertonicity', 'rhd positive', ' congestion', 'jugular venous distention', 'moody', 'blackout', 'out of breath']\n"
     ]
    }
   ],
   "source": [
    "import pandas as pd\n",
    "import pickle\n",
    "\n",
    "# Read the CSV file\n",
    "df = pd.read_csv(\"merged_data.csv\")\n",
    "\n",
    "# Extract the 'Disease' column using iloc and print all the diseases\n",
    "diseases = list(df.iloc[:, 0])\n",
    "\n",
    "# Initialize an empty set to store unique symptoms\n",
    "all_possible_symptoms = set()\n",
    "\n",
    "# Iterate through the DataFrame to collect symptoms\n",
    "for index, row in df.iterrows():\n",
    "    # Skip the first column which is 'Disease'\n",
    "    for symptom in row[1:]:\n",
    "        if not pd.isna(symptom):\n",
    "            all_possible_symptoms.add(symptom)\n",
    "            \n",
    "ind = 0\n",
    "# Convert the set of unique symptoms to a list\n",
    "symptoms = list(all_possible_symptoms)\n",
    "    \n",
    "for index, row in df.iterrows():\n",
    "    data = []\n",
    "    disease_data_map = {symptom: 0 for symptom in symptoms}\n",
    "    disease_symptoms = row[1:]    \n",
    "    \n",
    "    data.append(diseases[ind])\n",
    "    ind += 1\n",
    "    \n",
    "    for symptom in disease_symptoms:\n",
    "        if not pd.isna(symptom):\n",
    "            disease_data_map[symptom] = 1\n",
    "        \n",
    "    data.append(disease_data_map)"
   ]
  },
  {
   "cell_type": "code",
   "execution_count": 6,
   "id": "c78a9de2",
   "metadata": {},
   "outputs": [
    {
     "name": "stdout",
     "output_type": "stream",
     "text": [
      "['bruit', 'yellow sputum', 'hyponatremia', 'terrify', ' rusty_sputum', 'fear of falling', ' swollen_legs', 'abdomen acute', 'hypokinesia', 'numbness', 'intermenstrual heavy bleeding', 'difficulty', 'orthostasis', 'nausea', ' cramps', 'flatulence', ' pus_filled_pimples', 'angina pectoris', 'barking cough', 'hyperemesis', 'hematochezia', 'transaminitis', 'nervousness', 'decreased stool caliber', ' fatigue', 'thicken', ' yellowing_of_eyes', 'hirsutism', 'non-productive cough', 'pain', 'sleeplessness', 'hematuria', 'unsteady gait', 'difficulty passing urine', 'hydropneumothorax', ' small_dents_in_nails', 'hyperkalemia', 'abdominal tenderness', ' stomach_bleeding', ' chest_pain', ' enlarged_thyroid', 'regurgitates after swallowing', ' swelling_joints', 'hemiplegia', ' bruising', 'hypothermia, natural', 'noisy respiration', 'systolic ejection murmur', ' painful_walking', ' loss_of_balance', 'stool color yellow', 'lightheadedness', 'rolling of eyes', 'claudication', 'tumor cell invasion', 'food intolerance', ' drying_and_tingling_lips', \"Murphy's sign\", ' sunken_eyes', ' bloody_stool', 'withdraw', ' muscle_weakness', 'aura', ' altered_sensorium', 'tinnitus', 'underweight', ' yellowish_skin', 'syncope', 'indifferent mood', ' skin_peeling', 'pain foot', 'hallucinations auditory', 'absences finding', ' silver_like_dusting', 'awakening early', 'pericardial friction rub', ' abnormal_menstruation', ' movement_stiffness', 'pain neck', ' irritation_in_anus', 'hypometabolism', 'giddy mood', 'asymptomatic', 'decompensation', 'alcoholic withdrawal symptoms', 'snore', 'no status change', 'uncoordination', ' malaise', 'myoclonus', 'metastatic lesion', 'gurgle', 'gasping for breath', 'fatigability', 'fever', 'lesion', ' internal_itching', ' mood_swings', 'dysesthesia', ' red_spots_over_body', 'debilitation', 'exhaustion', 'urge incontinence', ' pain_behind_the_eyes', ' brittle_nails', 'verbal auditory hallucinations', ' blurred_and_distorted_vision', ' scurring', 'dizziness', 'scar tissue', 'prodrome', ' cold_hands_and_feets', 'seizure', ' acidity', 'clumsiness', ' shivering', 'room spinning', 'dizzy spells', 'milky', ' burning_micturition', 'frail', 'frothy sputum', ' slurred_speech', 'st segment depression', 'paraparesis', ' muscle_wasting', 'verbally abusive behavior', 'macule', 'pansystolic murmur', 'ataxia', 'oliguria', 'energy increased', 'mydriasis', 'dullness', 'breath-holding spell', 'loose associations', 'decreased translucency', 'dyspnea on exertion', 'ambidexterity', 'slowing of urinary stream', ' phlegm', 'diarrhea', 'retch', 'hemodynamically stable', 'muscle twitch', 'lip smacking', 'elation', 'disturbed family', 'extrapyramidal sign', ' hip_joint_pain', 'pruritus', 'shortness of breath', 'dysdiadochokinesia', 'behavior showing increased motor activity', 'has religious belief', ' continuous_feel_of_urine', 'mediastinal shift', 'unhappy', 'hyperacusis', 'fremitus', 'sensory discomfort', 'enuresis', 'r wave feature', 'excruciating pain', 'asterixis', 'bleeding of vagina', 'burning sensation', 'decreased body weight', 'posturing', 'pulsusparadoxus', 'sore to touch', ' receiving_unsterile_injections', 'low back pain', 'productive cough', 'poor dentition', 'para 1', ' weight_loss', 'chest tightness', 'behavior hyperactive', 'tremor resting', 'macerated skin', ' spotting_ urination', 'neologism', 'vomiting', 'bradykinesia', 'weepiness', 'arthralgia', 'cyanosis', 't wave inverted', 'hypercapnia', 'presence of q wave', 'cushingoidhabitus', 'nightmare', ' sinus_pressure', 'chest discomfort', ' muscle_pain', ' mild_fever', 'hypokalemia', 'polymyalgia', 'cachexia', ' joint_pain', 'throat sore', 'pallor', 'stuffy nose', 'mental status changes', 'rhonchus', 'paresis', ' blood_in_sputum', 'worry', 'intoxication', 'choke', ' unsteadiness', 'feeling hopeless', 'stiffness', 'todd paralysis', ' yellow_urine', 'hypotonic', 'cicatrisation', 'no known drug allergies', ' back_pain', ' irregular_sugar_level', ' swelled_lymph_nodes', 'egophony', 'fall', 'overweight', 'retropulsion', ' nodal_skin_eruptions', 'speech slurred', ' swollen_extremeties', 'groggy', 'haemoptysis', ' dark_urine', ' blackheads', 'rest pain', 'hypoxemia', 'spasm', 'heavy legs', ' fast_heart_rate', 'night sweat', 'hypocalcemia result', 'large-for-dates fetus', 'gravida 10', 'bradycardia', 'nonsmoker', 'titubation', ' ulcers_on_tongue', 'agitation', 'prostate tender', 'paralyse', 'disequilibrium', 'clonus', 'tonic seizures', 'extreme exhaustion', 'pain chest', 'atypia', 'hypoalbuminemia', 'distress respiratory', 'tremor', 'hallucinations visual', 'breath sounds decreased', ' toxic_look_(typhos)', 'systolic murmur', 'homicidal thoughts', 'abdominal bloating', 'vertigo', ' family_history', 'ecchymosis', ' distention_of_abdomen', 'hoard', 'wheelchair bound', 'renal angle tenderness', 'dyspnea', ' fluid_overload', 'urgency ofmicturition', 'cardiovascular event', 'snuffle', 'hepatomegaly', 'hypoproteinemia', 'rigor - temperature-associated observation', ' stiff_neck', 'qt interval prolonged', ' redness_of_eyes', 'immobile', 'urinoma', 'coordination abnormal', 'cough', 'lethargy', ' constipation', ' puffy_face_and_eyes', ' stomach_pain', 'unconscious state', 'feels hot/feverish', 'focal seizures', 'stinging sensation', ' visual_disturbances', 'pain in lower limb', 'breakthrough pain', 'irritable mood', ' red_sore_around_nose', 'history of - blackout', 'feeling strange', 'abnormally hard consistency', ' weakness_of_one_body_side', 'redness', 'feeling suicidal', 'homelessness', \"Stahli's line\", ' pain_during_bowel_movements', 'impaired cognition', 'paresthesia', 'clammy skin', 'pain abdominal', 'numbness of hand', 'inappropriate affect', 'motor retardation', 'heavy feeling', 'proteinemia', 'panic', ' history_of_alcohol_consumption', 'anosmia', 'chill', 'pneumatouria', 'pleuritic pain', 'constipation', ' inflammatory_nails', 'prostatism', ' neck_pain', 'dysarthria', 'pressure chest', ' abdominal_pain', 'tenesmus', 'cardiomegaly', ' spinning_movements', ' prominent_veins_on_calf', 'heme positive', ' polyuria', ' anxiety', 'adverse effect', ' nausea', 'transsexual', ' coma', 'green sputum', 'patient non compliance', ' weakness_in_limbs', 'headache', ' depression', 'ache', ' loss_of_appetite', 'polydypsia', 'mass of body structure', 'charleyhorse', 'pulse absent', ' patches_in_throat', 'rambling speech', ' dehydration', 'nasal flaring', 'general discomfort', 'painful swallowing', 'myalgia', 'catching breath', 'dysuria', ' diarrhoea', 'hoarseness', 'achalasia', 'satiety early', ' indigestion', 'scleralicterus', ' throat_irritation', 'moan', 'cystic lesion', 'orthopnea', 'abscess bacterial', 'pustule', ' weight_gain', 'haemorrhage', 'pain back', 'incoherent', 'tachypnea', 'shooting pain', 'floppy', 'photophobia', ' headache', ' foul_smell_of urine', 'apyrexial', 'sneeze', 'gravida 0', ' restlessness', ' obesity', 'lung nodule', ' dischromic _patches', 'sweating increased', ' sweating', ' loss_of_smell', 'weight gain', 'hacking cough', 'welt', 'hepatosplenomegaly', 'hypersomnolence', 'general unsteadiness', 'anorexia', ' blister', 'estrogen use', 'wheezing', 'hypesthesia', 'vision blurred', ' belly_pain', ' irritability', ' palpitations', 'alcohol binge episode', 'st segment elevation', 'hypotension', 'erythema', 'unwell', 'photopsia', ' continuous_sneezing', ' receiving_blood_transfusion', 'abnormal sensation', ' swollen_blood_vessels', 'posteriorrhinorrhea', 'nausea and vomiting', 'scratch marks', ' increased_appetite', 'sleepy', 'hyperhidrosis disorder', ' high_fever', 'gag', 'blanch', ' watering_from_eyes', 'stupor', ' vomiting', ' yellow_crust_ooze', ' chills', 'palpitation', 'bowel sounds decreased', 'passed stones', ' breathlessness', 'itching', 'stridor', 'distended abdomen', 'facial paresis', 'rale', 'soft tissue swelling', ' lack_of_concentration', 'red blotches', 'symptom aggravating factors', ' knee_pain', 'aphagia', 'abortion', 'hemianopsia homonymous', 'asthenia', 'spontaneous rupture of membranes', 'monoclonal', 'neck stiffness', ' swelling_of_stomach', \"Heberden's node\", 'feces in rectum', ' extra_marital_contacts', 'phonophobia', 'consciousness clear', ' dizziness', 'mass in breast', 'formication', 'swelling', 'projectile vomiting', 'hot flush', ' lethargy', 'drool', 'rapid shallow breathing', 'para 2', 'unresponsiveness', 'side pain', 'sniffle', 'hematocrit decreased', 'poor feeding', 'suicidal', 'bedridden', ' excessive_hunger', 'sinus rhythm', 'sedentary', 'emphysematous change', 'dyspareunia', 'superimposition', ' acute_liver_failure', 'colic abdominal', 'splenomegaly', 'nasal discharge present', 'flare', 'unable to concentrate', 'previous pregnancies 2', ' passage_of_gases', 'guaiac positive', 'hyperventilation', 'mood depressed', ' mucoid_sputum', 'flushing', 'fatigue', ' runny_nose', 'malaise', 'fecaluria', 'labored breathing', 'breech presentation', ' cough', 'sciatica', 'drowsiness', 'ascites', 'leftatrialhypertrophy', 'air fluid level', ' pain_in_anal_region', 'hunger', 'pin-point pupils', 'heartburn', ' bladder_discomfort', 'throbbing sensation quality', 'polyuria', 'sputum purulent', 'catatonia', 'hypersomnia', 'monocytosis', 'urinary hesitation', 'tired', ' skin_rash', 'primigravida', 'hypertonicity', 'rhd positive', ' congestion', 'jugular venous distention', 'moody', 'blackout', 'out of breath']\n"
     ]
    }
   ],
   "source": [
    "import pandas as pd\n",
    "\n",
    "# Read the CSV file\n",
    "df = pd.read_csv(\"merged_data.csv\")\n",
    "df.columns = df.columns.str.replace('_', ' ').str.capitalize()\n",
    "df.to_csv(\"merged_data_2.csv\")\n",
    "\n",
    "# Extract the 'Disease' column using iloc and print all the diseases\n",
    "diseases = list(df.iloc[:, 0])\n",
    "\n",
    "# Initialize an empty set to store unique symptoms\n",
    "all_possible_symptoms = set()\n",
    "\n",
    "# Iterate through the DataFrame to collect symptoms\n",
    "for index, row in df.iterrows():\n",
    "    # Skip the first column which is 'Disease'\n",
    "    for symptom in row[1:]:\n",
    "        if not pd.isna(symptom):\n",
    "            all_possible_symptoms.add(symptom)\n",
    "\n",
    "# Convert the set of unique symptoms to a list\n",
    "symptoms = list(all_possible_symptoms)\n",
    "\n",
    "# Create an empty list to store the data\n",
    "output_data = []\n",
    "\n",
    "for index, row in df.iterrows():\n",
    "    disease_data = [row[0]]  # Initialize with the disease name\n",
    "    disease_symptoms = row[1:]\n",
    "    \n",
    "    for symptom in symptoms:\n",
    "        if symptom in disease_symptoms.values:\n",
    "            disease_data.append(1)\n",
    "        else:\n",
    "            disease_data.append(0)\n",
    "    \n",
    "    # Append the data to the output_data list\n",
    "    output_data.append(disease_data)\n",
    "\n",
    "# Create a DataFrame from the output_data list\n",
    "output_df = pd.DataFrame(output_data, columns=[\"Disease\"] + symptoms)\n",
    "\n",
    "# Write the DataFrame to a CSV file\n",
    "output_df.to_csv(\"output.csv\", index=False)\n",
    "df.to_pickle('dataset.pkl')\n",
    "\n",
    "# Create the symptoms pickle to choose from\n",
    "print(symptoms)\n",
    "with open(\"symptoms.pkl\", \"wb\") as file:\n",
    "    pickle.dump(symptoms, file)"
   ]
  },
  {
   "cell_type": "code",
   "execution_count": 3,
   "id": "e803adae",
   "metadata": {},
   "outputs": [],
   "source": [
    "import pandas as pd\n",
    "\n",
    "# Read the CSV file\n",
    "df = pd.read_csv(\"merged_data.csv\", header=None)\n",
    "\n",
    "# Remove underscores and capitalize the first letter in symptom names\n",
    "df = df.apply(lambda x: x.str.replace('_', ' ').str.strip().str.capitalize())\n",
    "df = df.apply(lambda x: x.str.replace('  ', ' '))\n",
    "\n",
    "# Save the modified DataFrame to a new CSV file\n",
    "df.to_csv(\"merged_data_2.csv\", header=False, index=False)"
   ]
  }
 ],
 "metadata": {
  "kernelspec": {
   "display_name": "Python 3 (ipykernel)",
   "language": "python",
   "name": "python3"
  },
  "language_info": {
   "codemirror_mode": {
    "name": "ipython",
    "version": 3
   },
   "file_extension": ".py",
   "mimetype": "text/x-python",
   "name": "python",
   "nbconvert_exporter": "python",
   "pygments_lexer": "ipython3",
   "version": "3.9.13"
  }
 },
 "nbformat": 4,
 "nbformat_minor": 5
}
