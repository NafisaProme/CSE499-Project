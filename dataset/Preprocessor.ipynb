{
 "cells": [
  {
   "cell_type": "code",
   "execution_count": 1,
   "id": "922d2221",
   "metadata": {},
   "outputs": [],
   "source": [
    "import pandas as pd\n",
    "\n",
    "# Read the CSV file\n",
    "df = pd.read_csv(\"merged_data.csv\")\n",
    "\n",
    "# Extract the 'Disease' column using iloc and print all the diseases\n",
    "diseases = list(df.iloc[:, 0])\n",
    "\n",
    "# Initialize an empty set to store unique symptoms\n",
    "all_possible_symptoms = set()\n",
    "\n",
    "# Iterate through the DataFrame to collect symptoms\n",
    "for index, row in df.iterrows():\n",
    "    # Skip the first column which is 'Disease'\n",
    "    for symptom in row[1:]:\n",
    "        if not pd.isna(symptom):\n",
    "            all_possible_symptoms.add(symptom)\n",
    "ind = 0\n",
    "# Convert the set of unique symptoms to a list\n",
    "symptoms = list(all_possible_symptoms)\n",
    "# print(symptoms)\n",
    "\n",
    "for index, row in df.iterrows():\n",
    "    data = []\n",
    "    disease_data_map = {symptom: 0 for symptom in symptoms}\n",
    "    disease_symptoms = row[1:]    \n",
    "    \n",
    "    data.append(diseases[ind])\n",
    "    ind += 1\n",
    "    \n",
    "    for symptom in disease_symptoms:\n",
    "        if not pd.isna(symptom):\n",
    "            disease_data_map[symptom] = 1\n",
    "        \n",
    "    data.append(disease_data_map)"
   ]
  },
  {
   "cell_type": "code",
   "execution_count": 4,
   "id": "c78a9de2",
   "metadata": {},
   "outputs": [
    {
     "name": "stdout",
     "output_type": "stream",
     "text": [
      "{'Bacteremia', 'Parkinson Disease', 'Hyperglycemia', 'Failure Heart', 'Obesity Morbid', 'Confusion', 'Sickle Cell Anemia', 'Tonic-Clonic Seizures', 'Herniahiatal', 'Bipolar Disorder', 'Osteoarthristis', 'Primary Carcinoma Of The Liver Cells', 'Migraine Disorders', 'Urinary tract infection', 'Alcoholic hepatitis', 'Psoriasis', 'Hypercholesterolemia', 'Obesity', 'Upper Respiratory Infection', 'Neutropenia', 'Ileus', 'Cholecystitis', 'Lymphatic Diseases', 'Anxiety State', 'Pericardial Effusion Body Substance', 'Personality Disorder', 'AIDS', 'Acne', 'Failure Kidney', 'Malaria', 'Hyperlipidemia', 'Hypertension ', 'Schizophrenia', 'Influenza', 'Dementia', 'Cervical spondylosis', 'Hiv Infections', 'Pancreatitis', 'Depressive Disorder', 'Hypoglycemia', 'Hemorrhoids', 'Hepatitis E', 'Insufficiency Renal', 'Osteoporosis', 'Gastroenteritis', 'Endocarditis', 'Transient Ischemic Attack', 'Pneumocystiscariniipneumonia', 'Cirrhosis', 'Ischemia', 'Deglutition Disorder', 'Lymphoma', 'Diverticulitis', 'Common Cold', 'Delusion', 'Drug Reaction', 'Stenosis Aortic Valve', 'Primary Malignant Neoplasm', 'Melanoma', 'hepatitis A', 'Hemiparesis', 'Jaundice', 'Gastroesophageal Reflux Disease', 'Tuberculosis', 'Manic Disorder', 'Myocardial Infarction', 'Colitis', 'Bronchial Asthma', 'Failure Heart Congestive', 'Accidentcerebrovascular', 'Pancytopenia', 'Pyelonephritis', 'Carcinoma', 'Mitral Valve Insufficiency', 'Dimorphic hemmorhoids(piles)', 'Hyperthyroidism', 'Oralcandidiasis', 'Pneumothorax', 'Asthma', 'Hyperbilirubinemia', 'Benign Prostatic Hypertrophy', 'Dengue', 'Thrombocytopaenia', \"Alzheimer'S Disease\", '(vertigo) Paroymsal  Positional Vertigo', 'Arthritis', 'Neuropathy', 'Hypertension Pulmonary', 'Peripheral Vascular Disease', 'Chicken pox', 'Carcinoma Of Lung', 'Cardiomyopathy', 'Emphysema Pulmonary', 'Hypertensive Disease', 'Hypothyroidism', 'Diabetes', 'Varicose veins', 'Gastritis', 'Peptic ulcer diseae', 'Psychotic Disorder', 'Typhoid', 'Chronic Kidney Failure', 'Tricuspid Valve Insufficiency', 'Cellulitis', 'Biliary Calculus', 'Kidney Failure Acute', 'Hernia', 'Neoplasm', 'Encephalopathy', 'Dehydration', 'Infection', 'Diabetes ', 'Adenocarcinoma', 'Paralysis (brain hemorrhage)', 'Hepatitis C', 'Embolism Pulmonary', 'Ketoacidosis Diabetic', 'Degenerativepolyarthritis', 'Malignantneoplasms', 'Hepatitis B', 'Infection Urinary Tract', 'Bronchitis', 'Fibroid Tumor', 'GERD', 'Diverticulosis', 'Neoplasm Metastasis', 'Delirium', 'Pneumonia Aspiration', 'Glaucoma', 'Gout', 'Osteomyelitis', 'Hepatitis D', 'Thrombus', 'Incontinence', 'Chronic Alcoholic Intoxication', 'Kidney Disease', 'Overload Fluid', 'Hepatitis', 'Edema Pulmonary', 'Allergy', 'Chronic cholestasis', 'Pneumonia', 'Paroxysmaldyspnea', 'Dependence', 'Tachycardia Sinus', 'Affect Labile', 'Decubitus Ulcer', 'Exanthema', 'Migraine', 'Carcinoma Colon', 'Spasm Bronchial', 'Aphasia', 'Deep Vein Thrombosis', 'Anemia', 'Respiratory Failure', 'Fungal infection', 'Carcinoma Prostate', 'Chronic Obstructive Airway Disease', 'Suicide Attempt', 'Epilepsy', 'Impetigo', 'Coronary Heart Disease', 'Sepsis (Invertebrate)', 'Carcinoma Breast', 'Ulcer Peptic', 'Adhesion', 'Paranoia', 'Heart attack'}\n"
     ]
    }
   ],
   "source": [
    "import pandas as pd\n",
    "\n",
    "# Read the CSV file\n",
    "df = pd.read_csv(\"merged_data.csv\")\n",
    "df.columns = df.columns.str.replace('_', ' ').str.capitalize()\n",
    "df.to_csv(\"merged_data_2.csv\")\n",
    "\n",
    "# Extract the 'Disease' column using iloc and print all the diseases\n",
    "diseases = list(df.iloc[:, 0])\n",
    "print(set(diseases))\n",
    "\n",
    "# Initialize an empty set to store unique symptoms\n",
    "all_possible_symptoms = set()\n",
    "\n",
    "# Iterate through the DataFrame to collect symptoms\n",
    "for index, row in df.iterrows():\n",
    "    # Skip the first column which is 'Disease'\n",
    "    for symptom in row[1:]:\n",
    "        if not pd.isna(symptom):\n",
    "            all_possible_symptoms.add(symptom)\n",
    "\n",
    "# Convert the set of unique symptoms to a list\n",
    "symptoms = list(all_possible_symptoms)\n",
    "\n",
    "# Create an empty list to store the data\n",
    "output_data = []\n",
    "\n",
    "for index, row in df.iterrows():\n",
    "    disease_data = [row[0]]  # Initialize with the disease name\n",
    "    disease_symptoms = row[1:]\n",
    "    \n",
    "    for symptom in symptoms:\n",
    "        if symptom in disease_symptoms.values:\n",
    "            disease_data.append(1)\n",
    "        else:\n",
    "            disease_data.append(0)\n",
    "    \n",
    "    # Append the data to the output_data list\n",
    "    output_data.append(disease_data)\n",
    "\n",
    "# Create a DataFrame from the output_data list\n",
    "output_df = pd.DataFrame(output_data, columns=[\"Disease\"] + symptoms)\n",
    "\n",
    "# Write the DataFrame to a CSV file\n",
    "output_df.to_csv(\"output.csv\", index=False)\n",
    "df.to_pickle('dataset.pkl')\n",
    "\n",
    "# Create the symptoms pickle to choose from\n",
    "symptoms = pd.DataFrame(symptoms, columns=['Symptoms'])\n",
    "symptoms.to_pickle('symptoms.pkl')"
   ]
  },
  {
   "cell_type": "code",
   "execution_count": 8,
   "id": "e803adae",
   "metadata": {},
   "outputs": [],
   "source": [
    "import pandas as pd\n",
    "\n",
    "# Read the CSV file\n",
    "df = pd.read_csv(\"merged_data.csv\", header=None)\n",
    "\n",
    "# Remove underscores and capitalize the first letter in symptom names\n",
    "df = df.apply(lambda x: x.str.replace('_', ' ').str.strip().str.capitalize())\n",
    "df = df.apply(lambda x: x.str.replace('  ', ' '))\n",
    "\n",
    "# Save the modified DataFrame to a new CSV file\n",
    "df.to_csv(\"merged_data_2.csv\", header=False, index=False)"
   ]
  }
 ],
 "metadata": {
  "kernelspec": {
   "display_name": "Python 3 (ipykernel)",
   "language": "python",
   "name": "python3"
  },
  "language_info": {
   "codemirror_mode": {
    "name": "ipython",
    "version": 3
   },
   "file_extension": ".py",
   "mimetype": "text/x-python",
   "name": "python",
   "nbconvert_exporter": "python",
   "pygments_lexer": "ipython3",
   "version": "3.9.13"
  }
 },
 "nbformat": 4,
 "nbformat_minor": 5
}
