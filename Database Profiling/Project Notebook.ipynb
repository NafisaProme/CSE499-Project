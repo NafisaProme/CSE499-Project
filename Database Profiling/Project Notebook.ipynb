{
 "cells": [
  {
   "cell_type": "code",
   "execution_count": 1,
   "id": "848445ff",
   "metadata": {},
   "outputs": [
    {
     "ename": "FileNotFoundError",
     "evalue": "[Errno 2] No such file or directory: 'dataset/raw_data.csv'",
     "output_type": "error",
     "traceback": [
      "\u001b[1;31m---------------------------------------------------------------------------\u001b[0m",
      "\u001b[1;31mFileNotFoundError\u001b[0m                         Traceback (most recent call last)",
      "\u001b[1;32m~\\AppData\\Local\\Temp\\ipykernel_17096\\2724420709.py\u001b[0m in \u001b[0;36m<module>\u001b[1;34m\u001b[0m\n\u001b[0;32m      1\u001b[0m \u001b[1;32mimport\u001b[0m \u001b[0mpandas\u001b[0m \u001b[1;32mas\u001b[0m \u001b[0mpd\u001b[0m\u001b[1;33m\u001b[0m\u001b[1;33m\u001b[0m\u001b[0m\n\u001b[1;32m----> 2\u001b[1;33m \u001b[0mdata\u001b[0m \u001b[1;33m=\u001b[0m \u001b[0mpd\u001b[0m\u001b[1;33m.\u001b[0m\u001b[0mread_csv\u001b[0m\u001b[1;33m(\u001b[0m\u001b[1;34m'dataset/raw_data.csv'\u001b[0m\u001b[1;33m)\u001b[0m\u001b[1;33m\u001b[0m\u001b[1;33m\u001b[0m\u001b[0m\n\u001b[0m\u001b[0;32m      3\u001b[0m \u001b[0mdata\u001b[0m\u001b[1;33m.\u001b[0m\u001b[0mhead\u001b[0m\u001b[1;33m(\u001b[0m\u001b[1;36m10\u001b[0m\u001b[1;33m)\u001b[0m\u001b[1;33m\u001b[0m\u001b[1;33m\u001b[0m\u001b[0m\n",
      "\u001b[1;32mG:\\ProgramData\\Anaconda3\\lib\\site-packages\\pandas\\util\\_decorators.py\u001b[0m in \u001b[0;36mwrapper\u001b[1;34m(*args, **kwargs)\u001b[0m\n\u001b[0;32m    309\u001b[0m                     \u001b[0mstacklevel\u001b[0m\u001b[1;33m=\u001b[0m\u001b[0mstacklevel\u001b[0m\u001b[1;33m,\u001b[0m\u001b[1;33m\u001b[0m\u001b[1;33m\u001b[0m\u001b[0m\n\u001b[0;32m    310\u001b[0m                 )\n\u001b[1;32m--> 311\u001b[1;33m             \u001b[1;32mreturn\u001b[0m \u001b[0mfunc\u001b[0m\u001b[1;33m(\u001b[0m\u001b[1;33m*\u001b[0m\u001b[0margs\u001b[0m\u001b[1;33m,\u001b[0m \u001b[1;33m**\u001b[0m\u001b[0mkwargs\u001b[0m\u001b[1;33m)\u001b[0m\u001b[1;33m\u001b[0m\u001b[1;33m\u001b[0m\u001b[0m\n\u001b[0m\u001b[0;32m    312\u001b[0m \u001b[1;33m\u001b[0m\u001b[0m\n\u001b[0;32m    313\u001b[0m         \u001b[1;32mreturn\u001b[0m \u001b[0mwrapper\u001b[0m\u001b[1;33m\u001b[0m\u001b[1;33m\u001b[0m\u001b[0m\n",
      "\u001b[1;32mG:\\ProgramData\\Anaconda3\\lib\\site-packages\\pandas\\io\\parsers\\readers.py\u001b[0m in \u001b[0;36mread_csv\u001b[1;34m(filepath_or_buffer, sep, delimiter, header, names, index_col, usecols, squeeze, prefix, mangle_dupe_cols, dtype, engine, converters, true_values, false_values, skipinitialspace, skiprows, skipfooter, nrows, na_values, keep_default_na, na_filter, verbose, skip_blank_lines, parse_dates, infer_datetime_format, keep_date_col, date_parser, dayfirst, cache_dates, iterator, chunksize, compression, thousands, decimal, lineterminator, quotechar, quoting, doublequote, escapechar, comment, encoding, encoding_errors, dialect, error_bad_lines, warn_bad_lines, on_bad_lines, delim_whitespace, low_memory, memory_map, float_precision, storage_options)\u001b[0m\n\u001b[0;32m    676\u001b[0m     \u001b[0mkwds\u001b[0m\u001b[1;33m.\u001b[0m\u001b[0mupdate\u001b[0m\u001b[1;33m(\u001b[0m\u001b[0mkwds_defaults\u001b[0m\u001b[1;33m)\u001b[0m\u001b[1;33m\u001b[0m\u001b[1;33m\u001b[0m\u001b[0m\n\u001b[0;32m    677\u001b[0m \u001b[1;33m\u001b[0m\u001b[0m\n\u001b[1;32m--> 678\u001b[1;33m     \u001b[1;32mreturn\u001b[0m \u001b[0m_read\u001b[0m\u001b[1;33m(\u001b[0m\u001b[0mfilepath_or_buffer\u001b[0m\u001b[1;33m,\u001b[0m \u001b[0mkwds\u001b[0m\u001b[1;33m)\u001b[0m\u001b[1;33m\u001b[0m\u001b[1;33m\u001b[0m\u001b[0m\n\u001b[0m\u001b[0;32m    679\u001b[0m \u001b[1;33m\u001b[0m\u001b[0m\n\u001b[0;32m    680\u001b[0m \u001b[1;33m\u001b[0m\u001b[0m\n",
      "\u001b[1;32mG:\\ProgramData\\Anaconda3\\lib\\site-packages\\pandas\\io\\parsers\\readers.py\u001b[0m in \u001b[0;36m_read\u001b[1;34m(filepath_or_buffer, kwds)\u001b[0m\n\u001b[0;32m    573\u001b[0m \u001b[1;33m\u001b[0m\u001b[0m\n\u001b[0;32m    574\u001b[0m     \u001b[1;31m# Create the parser.\u001b[0m\u001b[1;33m\u001b[0m\u001b[1;33m\u001b[0m\u001b[0m\n\u001b[1;32m--> 575\u001b[1;33m     \u001b[0mparser\u001b[0m \u001b[1;33m=\u001b[0m \u001b[0mTextFileReader\u001b[0m\u001b[1;33m(\u001b[0m\u001b[0mfilepath_or_buffer\u001b[0m\u001b[1;33m,\u001b[0m \u001b[1;33m**\u001b[0m\u001b[0mkwds\u001b[0m\u001b[1;33m)\u001b[0m\u001b[1;33m\u001b[0m\u001b[1;33m\u001b[0m\u001b[0m\n\u001b[0m\u001b[0;32m    576\u001b[0m \u001b[1;33m\u001b[0m\u001b[0m\n\u001b[0;32m    577\u001b[0m     \u001b[1;32mif\u001b[0m \u001b[0mchunksize\u001b[0m \u001b[1;32mor\u001b[0m \u001b[0miterator\u001b[0m\u001b[1;33m:\u001b[0m\u001b[1;33m\u001b[0m\u001b[1;33m\u001b[0m\u001b[0m\n",
      "\u001b[1;32mG:\\ProgramData\\Anaconda3\\lib\\site-packages\\pandas\\io\\parsers\\readers.py\u001b[0m in \u001b[0;36m__init__\u001b[1;34m(self, f, engine, **kwds)\u001b[0m\n\u001b[0;32m    930\u001b[0m \u001b[1;33m\u001b[0m\u001b[0m\n\u001b[0;32m    931\u001b[0m         \u001b[0mself\u001b[0m\u001b[1;33m.\u001b[0m\u001b[0mhandles\u001b[0m\u001b[1;33m:\u001b[0m \u001b[0mIOHandles\u001b[0m \u001b[1;33m|\u001b[0m \u001b[1;32mNone\u001b[0m \u001b[1;33m=\u001b[0m \u001b[1;32mNone\u001b[0m\u001b[1;33m\u001b[0m\u001b[1;33m\u001b[0m\u001b[0m\n\u001b[1;32m--> 932\u001b[1;33m         \u001b[0mself\u001b[0m\u001b[1;33m.\u001b[0m\u001b[0m_engine\u001b[0m \u001b[1;33m=\u001b[0m \u001b[0mself\u001b[0m\u001b[1;33m.\u001b[0m\u001b[0m_make_engine\u001b[0m\u001b[1;33m(\u001b[0m\u001b[0mf\u001b[0m\u001b[1;33m,\u001b[0m \u001b[0mself\u001b[0m\u001b[1;33m.\u001b[0m\u001b[0mengine\u001b[0m\u001b[1;33m)\u001b[0m\u001b[1;33m\u001b[0m\u001b[1;33m\u001b[0m\u001b[0m\n\u001b[0m\u001b[0;32m    933\u001b[0m \u001b[1;33m\u001b[0m\u001b[0m\n\u001b[0;32m    934\u001b[0m     \u001b[1;32mdef\u001b[0m \u001b[0mclose\u001b[0m\u001b[1;33m(\u001b[0m\u001b[0mself\u001b[0m\u001b[1;33m)\u001b[0m\u001b[1;33m:\u001b[0m\u001b[1;33m\u001b[0m\u001b[1;33m\u001b[0m\u001b[0m\n",
      "\u001b[1;32mG:\\ProgramData\\Anaconda3\\lib\\site-packages\\pandas\\io\\parsers\\readers.py\u001b[0m in \u001b[0;36m_make_engine\u001b[1;34m(self, f, engine)\u001b[0m\n\u001b[0;32m   1214\u001b[0m             \u001b[1;31m# \"Union[str, PathLike[str], ReadCsvBuffer[bytes], ReadCsvBuffer[str]]\"\u001b[0m\u001b[1;33m\u001b[0m\u001b[1;33m\u001b[0m\u001b[0m\n\u001b[0;32m   1215\u001b[0m             \u001b[1;31m# , \"str\", \"bool\", \"Any\", \"Any\", \"Any\", \"Any\", \"Any\"\u001b[0m\u001b[1;33m\u001b[0m\u001b[1;33m\u001b[0m\u001b[0m\n\u001b[1;32m-> 1216\u001b[1;33m             self.handles = get_handle(  # type: ignore[call-overload]\n\u001b[0m\u001b[0;32m   1217\u001b[0m                 \u001b[0mf\u001b[0m\u001b[1;33m,\u001b[0m\u001b[1;33m\u001b[0m\u001b[1;33m\u001b[0m\u001b[0m\n\u001b[0;32m   1218\u001b[0m                 \u001b[0mmode\u001b[0m\u001b[1;33m,\u001b[0m\u001b[1;33m\u001b[0m\u001b[1;33m\u001b[0m\u001b[0m\n",
      "\u001b[1;32mG:\\ProgramData\\Anaconda3\\lib\\site-packages\\pandas\\io\\common.py\u001b[0m in \u001b[0;36mget_handle\u001b[1;34m(path_or_buf, mode, encoding, compression, memory_map, is_text, errors, storage_options)\u001b[0m\n\u001b[0;32m    784\u001b[0m         \u001b[1;32mif\u001b[0m \u001b[0mioargs\u001b[0m\u001b[1;33m.\u001b[0m\u001b[0mencoding\u001b[0m \u001b[1;32mand\u001b[0m \u001b[1;34m\"b\"\u001b[0m \u001b[1;32mnot\u001b[0m \u001b[1;32min\u001b[0m \u001b[0mioargs\u001b[0m\u001b[1;33m.\u001b[0m\u001b[0mmode\u001b[0m\u001b[1;33m:\u001b[0m\u001b[1;33m\u001b[0m\u001b[1;33m\u001b[0m\u001b[0m\n\u001b[0;32m    785\u001b[0m             \u001b[1;31m# Encoding\u001b[0m\u001b[1;33m\u001b[0m\u001b[1;33m\u001b[0m\u001b[0m\n\u001b[1;32m--> 786\u001b[1;33m             handle = open(\n\u001b[0m\u001b[0;32m    787\u001b[0m                 \u001b[0mhandle\u001b[0m\u001b[1;33m,\u001b[0m\u001b[1;33m\u001b[0m\u001b[1;33m\u001b[0m\u001b[0m\n\u001b[0;32m    788\u001b[0m                 \u001b[0mioargs\u001b[0m\u001b[1;33m.\u001b[0m\u001b[0mmode\u001b[0m\u001b[1;33m,\u001b[0m\u001b[1;33m\u001b[0m\u001b[1;33m\u001b[0m\u001b[0m\n",
      "\u001b[1;31mFileNotFoundError\u001b[0m: [Errno 2] No such file or directory: 'dataset/raw_data.csv'"
     ]
    }
   ],
   "source": [
    "import pandas as pd\n",
    "data = pd.read_csv('dataset/raw_data.csv')\n",
    "data.head(10)"
   ]
  },
  {
   "cell_type": "code",
   "execution_count": null,
   "id": "a981bbe6",
   "metadata": {},
   "outputs": [],
   "source": [
    "import matplotlib.pyplot as plt #visualization\n",
    "import seaborn as sns #visualization\n",
    "from pandas_profiling import ProfileReport\n",
    "\n",
    "profile = ProfileReport(data)\n",
    "# generating the profile report and outputting it \n",
    "profile.to_file('profile_report.html')"
   ]
  },
  {
   "cell_type": "code",
   "execution_count": null,
   "id": "20169ae1",
   "metadata": {},
   "outputs": [],
   "source": [
    "# load the train dataset\n",
    "train = pd.read_csv('dataset/training.csv')\n",
    "train.head(10)\n",
    "\n",
    "# load the test dataset\n",
    "test = pd.read_csv('dataset/testing.csv')"
   ]
  },
  {
   "cell_type": "code",
   "execution_count": null,
   "id": "c68f0457",
   "metadata": {
    "scrolled": true
   },
   "outputs": [],
   "source": [
    "from sklearn.model_selection import train_test_split\n",
    "from sklearn.tree import DecisionTreeClassifier\n",
    "from sklearn import metrics\n",
    "\n",
    "# Select features and target variable\n",
    "X_train = train.drop('prognosis', axis=1)  # Features (all columns except the target variable)\n",
    "y_train = train['prognosis']  # Target variable (price)\n",
    "\n",
    "X_test = test.drop('prognosis', axis=1)\n",
    "y_test = test['prognosis']\n",
    "\n",
    "# Split the dataset into training and testing sets\n",
    "# X_train, X_test, y_train, y_test = train_test_split(X, y, test_size=0.2, random_state=42)\n",
    "\n",
    "# Create a Decision Tree regressor\n",
    "model = DecisionTreeClassifier()\n",
    "\n",
    "# Train the model\n",
    "model.fit(X_train, y_train)\n",
    "\n",
    "# Make predictions on the testing set\n",
    "y_pred = model.predict(X_test)\n",
    "\n",
    "# Evaluate the performance of the classifier\n",
    "accuracy = metrics.accuracy_score(y_test, y_pred)\n",
    "print(\"Accuracy:\", accuracy * 100, \"%\")"
   ]
  },
  {
   "cell_type": "code",
   "execution_count": null,
   "id": "887a7318",
   "metadata": {},
   "outputs": [],
   "source": [
    "train.head()"
   ]
  },
  {
   "cell_type": "code",
   "execution_count": null,
   "id": "55cb9d64",
   "metadata": {},
   "outputs": [],
   "source": [
    "unique_diseases = data['Disease'].unique()\n",
    "print(unique_diseases)"
   ]
  },
  {
   "cell_type": "code",
   "execution_count": 2,
   "id": "89ddf40f",
   "metadata": {},
   "outputs": [
    {
     "ename": "NameError",
     "evalue": "name 'y_test' is not defined",
     "output_type": "error",
     "traceback": [
      "\u001b[1;31m---------------------------------------------------------------------------\u001b[0m",
      "\u001b[1;31mNameError\u001b[0m                                 Traceback (most recent call last)",
      "\u001b[1;32m~\\AppData\\Local\\Temp\\ipykernel_17096\\2956785900.py\u001b[0m in \u001b[0;36m<module>\u001b[1;34m\u001b[0m\n\u001b[0;32m      5\u001b[0m \u001b[1;33m\u001b[0m\u001b[0m\n\u001b[0;32m      6\u001b[0m \u001b[1;31m# Assuming you have the true labels in the variable y_test and predicted labels in the variable y_pred\u001b[0m\u001b[1;33m\u001b[0m\u001b[1;33m\u001b[0m\u001b[0m\n\u001b[1;32m----> 7\u001b[1;33m \u001b[0mreport\u001b[0m \u001b[1;33m=\u001b[0m \u001b[0mclassification_report\u001b[0m\u001b[1;33m(\u001b[0m\u001b[0my_test\u001b[0m\u001b[1;33m,\u001b[0m \u001b[0my_pred\u001b[0m\u001b[1;33m,\u001b[0m \u001b[0moutput_dict\u001b[0m\u001b[1;33m=\u001b[0m\u001b[1;32mTrue\u001b[0m\u001b[1;33m)\u001b[0m\u001b[1;33m\u001b[0m\u001b[1;33m\u001b[0m\u001b[0m\n\u001b[0m\u001b[0;32m      8\u001b[0m \u001b[1;33m\u001b[0m\u001b[0m\n\u001b[0;32m      9\u001b[0m \u001b[1;31m# Convert the classification report dictionary to a pandas DataFrame\u001b[0m\u001b[1;33m\u001b[0m\u001b[1;33m\u001b[0m\u001b[0m\n",
      "\u001b[1;31mNameError\u001b[0m: name 'y_test' is not defined"
     ]
    }
   ],
   "source": [
    "%matplotlib inline\n",
    "import pandas as pd\n",
    "from sklearn.metrics import classification_report\n",
    "import matplotlib.pyplot as plt\n",
    "\n",
    "# Assuming you have the true labels in the variable y_test and predicted labels in the variable y_pred\n",
    "report = classification_report(y_test, y_pred, output_dict=True)\n",
    "\n",
    "# Convert the classification report dictionary to a pandas DataFrame\n",
    "metrics_df = pd.DataFrame(report).transpose()\n",
    "\n",
    "# Select the metrics for precision and recall for the 10 diseases\n",
    "selected_classes = ['Fungal infection', 'Allergy', 'GERD', 'Chronic cholestasis', 'Drug Reaction',\n",
    "                     'Peptic ulcer diseae', 'AIDS', 'Diabetes ', 'Gastroenteritis', 'Bronchial Asthma']\n",
    "metrics_df = metrics_df.loc[selected_classes, ['precision', 'recall']]\n",
    "\n",
    "# Plot the metrics using a grouped bar chart\n",
    "metrics_df.plot(kind='bar', figsize=(10, 6))\n",
    "plt.xlabel('Class')\n",
    "plt.ylabel('Score')\n",
    "plt.title('Precision and Recall for 10 Diseases')\n",
    "plt"
   ]
  },
  {
   "cell_type": "code",
   "execution_count": 7,
   "id": "238a7a3c",
   "metadata": {},
   "outputs": [
    {
     "name": "stdout",
     "output_type": "stream",
     "text": [
      "{'itching': {'keywords': ['itching', 'fatigue', 'lethargy', 'yellowish', 'skin', 'dark', 'urine', 'loss', 'of', 'appetite', 'abdominal', 'pain', 'yellow', 'urine', 'yellowing', 'of', 'eyes', 'malaise', 'receiving', 'blood', 'transfusion', 'receiving', 'unsterile', 'injections']}, 'skin_rash': {'keywords': ['skin', 'rash', 'high', 'fever', 'blister', 'red', 'sore', 'around', 'nose', 'yellow', 'crust', 'ooze']}, 'nodal_skin_eruptions': {'keywords': ['itching', 'skin', 'rash', 'nodal', 'skin', 'eruptions', 'dischromic', 'patches']}, 'dischromic _patches': {'keywords': ['itching', 'skin', 'rash', 'nodal', 'skin', 'eruptions', 'dischromic', 'patches']}, 'continuous_sneezing': {'keywords': ['continuous', 'sneezing', 'chills', 'fatigue', 'cough', 'high', 'fever', 'headache', 'swelled', 'lymph', 'nodes', 'malaise', 'phlegm', 'throat', 'irritation', 'redness', 'of', 'eyes', 'sinus', 'pressure', 'runny', 'nose', 'congestion', 'chest', 'pain', 'loss', 'of', 'smell', 'muscle', 'pain']}, 'shivering': {'keywords': ['continuous', 'sneezing', 'shivering', 'chills', 'watering', 'from', 'eyes']}, 'chills': {'keywords': ['chills', 'fatigue', 'cough', 'high', 'fever', 'breathlessness', 'sweating', 'malaise', 'phlegm', 'chest', 'pain', 'fast', 'heart', 'rate', 'rusty', 'sputum']}, 'watering_from_eyes': {'keywords': ['continuous', 'sneezing', 'shivering', 'chills', 'watering', 'from', 'eyes']}, 'stomach_pain': {'keywords': ['itching', 'skin', 'rash', 'stomach', 'pain', 'burning', 'micturition', 'spotting', 'urination']}, 'acidity': {'keywords': ['acidity', 'indigestion', 'headache', 'blurred', 'and', 'distorted', 'vision', 'excessive', 'hunger', 'stiff', 'neck', 'depression', 'irritability', 'visual', 'disturbances']}, 'ulcers_on_tongue': {'keywords': ['stomach', 'pain', 'acidity', 'ulcers', 'on', 'tongue', 'vomiting', 'cough', 'chest', 'pain']}, 'vomiting': {'keywords': ['vomiting', 'headache', 'nausea', 'spinning', 'movements', 'loss', 'of', 'balance', 'unsteadiness']}, 'cough': {'keywords': ['chills', 'fatigue', 'cough', 'high', 'fever', 'breathlessness', 'sweating', 'malaise', 'phlegm', 'chest', 'pain', 'fast', 'heart', 'rate', 'rusty', 'sputum']}, 'chest_pain': {'keywords': ['vomiting', 'breathlessness', 'sweating', 'chest', 'pain']}, 'yellowish_skin': {'keywords': ['vomiting', 'yellowish', 'skin', 'abdominal', 'pain', 'swelling', 'of', 'stomach', 'distention', 'of', 'abdomen', 'history', 'of', 'alcohol', 'consumption', 'fluid', 'overload']}, 'nausea': {'keywords': ['vomiting', 'headache', 'nausea', 'spinning', 'movements', 'loss', 'of', 'balance', 'unsteadiness']}, 'loss_of_appetite': {'keywords': ['chills', 'vomiting', 'fatigue', 'weight', 'loss', 'cough', 'high', 'fever', 'breathlessness', 'sweating', 'loss', 'of', 'appetite', 'mild', 'fever', 'yellowing', 'of', 'eyes', 'swelled', 'lymph', 'nodes', 'malaise', 'phlegm', 'chest', 'pain', 'blood', 'in', 'sputum']}, 'abdominal_pain': {'keywords': ['vomiting', 'yellowish', 'skin', 'abdominal', 'pain', 'swelling', 'of', 'stomach', 'distention', 'of', 'abdomen', 'history', 'of', 'alcohol', 'consumption', 'fluid', 'overload']}, 'yellowing_of_eyes': {'keywords': ['chills', 'vomiting', 'fatigue', 'weight', 'loss', 'cough', 'high', 'fever', 'breathlessness', 'sweating', 'loss', 'of', 'appetite', 'mild', 'fever', 'yellowing', 'of', 'eyes', 'swelled', 'lymph', 'nodes', 'malaise', 'phlegm', 'chest', 'pain', 'blood', 'in', 'sputum']}, 'burning_micturition': {'keywords': ['burning', 'micturition', 'bladder', 'discomfort', 'foul', 'smell', 'of urine', 'continuous', 'feel', 'of', 'urine']}, 'spotting_ urination': {'keywords': ['itching', 'skin', 'rash', 'stomach', 'pain', 'burning', 'micturition', 'spotting', 'urination']}, 'passage_of_gases': {'keywords': ['vomiting', 'indigestion', 'loss', 'of', 'appetite', 'abdominal', 'pain', 'passage', 'of', 'gases', 'internal', 'itching']}, 'internal_itching': {'keywords': ['vomiting', 'indigestion', 'loss', 'of', 'appetite', 'abdominal', 'pain', 'passage', 'of', 'gases', 'internal', 'itching']}, 'indigestion': {'keywords': ['acidity', 'indigestion', 'headache', 'blurred', 'and', 'distorted', 'vision', 'excessive', 'hunger', 'stiff', 'neck', 'depression', 'irritability', 'visual', 'disturbances']}, 'muscle_wasting': {'keywords': ['muscle', 'wasting', 'patches', 'in', 'throat', 'high', 'fever', 'extra', 'marital', 'contacts']}, 'patches_in_throat': {'keywords': ['muscle', 'wasting', 'patches', 'in', 'throat', 'high', 'fever', 'extra', 'marital', 'contacts']}, 'high_fever': {'keywords': ['skin', 'rash', 'high', 'fever', 'blister', 'red', 'sore', 'around', 'nose', 'yellow', 'crust', 'ooze']}, 'extra_marital_contacts': {'keywords': ['muscle', 'wasting', 'patches', 'in', 'throat', 'high', 'fever', 'extra', 'marital', 'contacts']}, 'fatigue': {'keywords': ['vomiting', 'fatigue', 'anxiety', 'sweating', 'headache', 'nausea', 'blurred', 'and', 'distorted', 'vision', 'excessive', 'hunger', 'drying', 'and', 'tingling', 'lips', 'slurred', 'speech', 'irritability', 'palpitations']}, 'weight_loss': {'keywords': ['fatigue', 'mood', 'swings', 'weight', 'loss', 'restlessness', 'sweating', 'diarrhoea', 'fast', 'heart', 'rate', 'excessive', 'hunger', 'muscle', 'weakness', 'irritability', 'abnormal', 'menstruation']}, 'restlessness': {'keywords': ['fatigue', 'mood', 'swings', 'weight', 'loss', 'restlessness', 'sweating', 'diarrhoea', 'fast', 'heart', 'rate', 'excessive', 'hunger', 'muscle', 'weakness', 'irritability', 'abnormal', 'menstruation']}, 'lethargy': {'keywords': ['fatigue', 'weight', 'gain', 'cold', 'hands', 'and', 'feets', 'mood', 'swings', 'lethargy', 'dizziness', 'puffy', 'face', 'and', 'eyes', 'enlarged', 'thyroid', 'brittle', 'nails', 'swollen', 'extremeties', 'depression', 'irritability', 'abnormal', 'menstruation']}, 'irregular_sugar_level': {'keywords': ['fatigue', 'weight', 'loss', 'restlessness', 'lethargy', 'irregular', 'sugar', 'level', 'blurred', 'and', 'distorted', 'vision', 'obesity', 'excessive', 'hunger', 'increased', 'appetite', 'polyuria']}, 'blurred_and_distorted_vision': {'keywords': ['vomiting', 'fatigue', 'anxiety', 'sweating', 'headache', 'nausea', 'blurred', 'and', 'distorted', 'vision', 'excessive', 'hunger', 'drying', 'and', 'tingling', 'lips', 'slurred', 'speech', 'irritability', 'palpitations']}, 'obesity': {'keywords': ['fatigue', 'cramps', 'bruising', 'obesity', 'swollen', 'legs', 'swollen', 'blood', 'vessels', 'prominent', 'veins', 'on', 'calf']}, 'excessive_hunger': {'keywords': ['vomiting', 'fatigue', 'anxiety', 'sweating', 'headache', 'nausea', 'blurred', 'and', 'distorted', 'vision', 'excessive', 'hunger', 'drying', 'and', 'tingling', 'lips', 'slurred', 'speech', 'irritability', 'palpitations']}, 'increased_appetite': {'keywords': ['fatigue', 'weight', 'loss', 'restlessness', 'lethargy', 'irregular', 'sugar', 'level', 'blurred', 'and', 'distorted', 'vision', 'obesity', 'excessive', 'hunger', 'increased', 'appetite', 'polyuria']}, 'polyuria': {'keywords': ['fatigue', 'weight', 'loss', 'restlessness', 'lethargy', 'irregular', 'sugar', 'level', 'blurred', 'and', 'distorted', 'vision', 'obesity', 'excessive', 'hunger', 'increased', 'appetite', 'polyuria']}, 'sunken_eyes': {'keywords': ['vomiting', 'sunken', 'eyes', 'dehydration', 'diarrhoea']}, 'dehydration': {'keywords': ['vomiting', 'sunken', 'eyes', 'dehydration', 'diarrhoea']}, 'diarrhoea': {'keywords': ['fatigue', 'mood', 'swings', 'weight', 'loss', 'restlessness', 'sweating', 'diarrhoea', 'fast', 'heart', 'rate', 'excessive', 'hunger', 'muscle', 'weakness', 'irritability', 'abnormal', 'menstruation']}, 'breathlessness': {'keywords': ['vomiting', 'breathlessness', 'sweating', 'chest', 'pain']}, 'family_history': {'keywords': ['fatigue', 'yellowish', 'skin', 'nausea', 'loss', 'of', 'appetite', 'yellowing', 'of', 'eyes', 'family', 'history']}, 'mucoid_sputum': {'keywords': ['fatigue', 'cough', 'high', 'fever', 'breathlessness', 'family', 'history', 'mucoid', 'sputum']}, 'headache': {'keywords': ['vomiting', 'headache', 'nausea', 'spinning', 'movements', 'loss', 'of', 'balance', 'unsteadiness']}, 'dizziness': {'keywords': ['fatigue', 'weight', 'gain', 'cold', 'hands', 'and', 'feets', 'mood', 'swings', 'lethargy', 'dizziness', 'puffy', 'face', 'and', 'eyes', 'enlarged', 'thyroid', 'brittle', 'nails', 'swollen', 'extremeties', 'depression', 'irritability', 'abnormal', 'menstruation']}, 'loss_of_balance': {'keywords': ['vomiting', 'headache', 'nausea', 'spinning', 'movements', 'loss', 'of', 'balance', 'unsteadiness']}, 'lack_of_concentration': {'keywords': ['headache', 'chest', 'pain', 'dizziness', 'loss', 'of', 'balance', 'lack', 'of', 'concentration']}, 'stiff_neck': {'keywords': ['muscle', 'weakness', 'stiff', 'neck', 'swelling', 'joints', 'movement', 'stiffness', 'painful', 'walking']}, 'depression': {'keywords': ['fatigue', 'weight', 'gain', 'cold', 'hands', 'and', 'feets', 'mood', 'swings', 'lethargy', 'dizziness', 'puffy', 'face', 'and', 'eyes', 'enlarged', 'thyroid', 'brittle', 'nails', 'swollen', 'extremeties', 'depression', 'irritability', 'abnormal', 'menstruation']}, 'irritability': {'keywords': ['vomiting', 'fatigue', 'anxiety', 'sweating', 'headache', 'nausea', 'blurred', 'and', 'distorted', 'vision', 'excessive', 'hunger', 'drying', 'and', 'tingling', 'lips', 'slurred', 'speech', 'irritability', 'palpitations']}, 'visual_disturbances': {'keywords': ['acidity', 'indigestion', 'headache', 'blurred', 'and', 'distorted', 'vision', 'excessive', 'hunger', 'stiff', 'neck', 'depression', 'irritability', 'visual', 'disturbances']}, 'back_pain': {'keywords': ['skin', 'rash', 'chills', 'joint', 'pain', 'vomiting', 'fatigue', 'high', 'fever', 'headache', 'nausea', 'loss', 'of', 'appetite', 'pain', 'behind', 'the', 'eyes', 'back', 'pain', 'malaise', 'muscle', 'pain', 'red', 'spots', 'over', 'body']}, 'weakness_in_limbs': {'keywords': ['back', 'pain', 'weakness', 'in', 'limbs', 'neck', 'pain', 'dizziness', 'loss', 'of', 'balance']}, 'neck_pain': {'keywords': ['joint', 'pain', 'neck', 'pain', 'knee', 'pain', 'hip', 'joint', 'pain', 'swelling', 'joints', 'painful', 'walking']}, 'weakness_of_one_body_side': {'keywords': ['vomiting', 'headache', 'weakness', 'of', 'one', 'body', 'side', 'altered', 'sensorium']}, 'altered_sensorium': {'keywords': ['vomiting', 'headache', 'weakness', 'of', 'one', 'body', 'side', 'altered', 'sensorium']}, 'dark_urine': {'keywords': ['joint', 'pain', 'vomiting', 'fatigue', 'high', 'fever', 'yellowish', 'skin', 'dark', 'urine', 'nausea', 'loss', 'of', 'appetite', 'abdominal', 'pain', 'yellowing', 'of', 'eyes', 'acute', 'liver', 'failure', 'coma', 'stomach', 'bleeding']}, 'sweating': {'keywords': ['vomiting', 'fatigue', 'anxiety', 'sweating', 'headache', 'nausea', 'blurred', 'and', 'distorted', 'vision', 'excessive', 'hunger', 'drying', 'and', 'tingling', 'lips', 'slurred', 'speech', 'irritability', 'palpitations']}, 'muscle_pain': {'keywords': ['continuous', 'sneezing', 'chills', 'fatigue', 'cough', 'high', 'fever', 'headache', 'swelled', 'lymph', 'nodes', 'malaise', 'phlegm', 'throat', 'irritation', 'redness', 'of', 'eyes', 'sinus', 'pressure', 'runny', 'nose', 'congestion', 'chest', 'pain', 'loss', 'of', 'smell', 'muscle', 'pain']}, 'mild_fever': {'keywords': ['chills', 'vomiting', 'fatigue', 'weight', 'loss', 'cough', 'high', 'fever', 'breathlessness', 'sweating', 'loss', 'of', 'appetite', 'mild', 'fever', 'yellowing', 'of', 'eyes', 'swelled', 'lymph', 'nodes', 'malaise', 'phlegm', 'chest', 'pain', 'blood', 'in', 'sputum']}, 'swelled_lymph_nodes': {'keywords': ['continuous', 'sneezing', 'chills', 'fatigue', 'cough', 'high', 'fever', 'headache', 'swelled', 'lymph', 'nodes', 'malaise', 'phlegm', 'throat', 'irritation', 'redness', 'of', 'eyes', 'sinus', 'pressure', 'runny', 'nose', 'congestion', 'chest', 'pain', 'loss', 'of', 'smell', 'muscle', 'pain']}, 'malaise': {'keywords': ['chills', 'fatigue', 'cough', 'high', 'fever', 'breathlessness', 'sweating', 'malaise', 'phlegm', 'chest', 'pain', 'fast', 'heart', 'rate', 'rusty', 'sputum']}, 'red_spots_over_body': {'keywords': ['skin', 'rash', 'chills', 'joint', 'pain', 'vomiting', 'fatigue', 'high', 'fever', 'headache', 'nausea', 'loss', 'of', 'appetite', 'pain', 'behind', 'the', 'eyes', 'back', 'pain', 'malaise', 'muscle', 'pain', 'red', 'spots', 'over', 'body']}, 'joint_pain': {'keywords': ['skin', 'rash', 'joint', 'pain', 'skin', 'peeling', 'silver', 'like', 'dusting', 'small', 'dents', 'in', 'nails', 'inflammatory', 'nails']}, 'pain_behind_the_eyes': {'keywords': ['skin', 'rash', 'chills', 'joint', 'pain', 'vomiting', 'fatigue', 'high', 'fever', 'headache', 'nausea', 'loss', 'of', 'appetite', 'pain', 'behind', 'the', 'eyes', 'back', 'pain', 'malaise', 'muscle', 'pain', 'red', 'spots', 'over', 'body']}, 'constipation': {'keywords': ['constipation', 'pain', 'during', 'bowel', 'movements', 'pain', 'in', 'anal', 'region', 'bloody', 'stool', 'irritation', 'in', 'anus']}, 'toxic_look_(typhos)': {'keywords': ['chills', 'vomiting', 'fatigue', 'high', 'fever', 'headache', 'nausea', 'constipation', 'abdominal', 'pain', 'diarrhoea', 'toxic', 'look', '(typhos)', 'belly', 'pain']}, 'belly_pain': {'keywords': ['chills', 'vomiting', 'fatigue', 'high', 'fever', 'headache', 'nausea', 'constipation', 'abdominal', 'pain', 'diarrhoea', 'toxic', 'look', '(typhos)', 'belly', 'pain']}, 'yellow_urine': {'keywords': ['itching', 'fatigue', 'lethargy', 'yellowish', 'skin', 'dark', 'urine', 'loss', 'of', 'appetite', 'abdominal', 'pain', 'yellow', 'urine', 'yellowing', 'of', 'eyes', 'malaise', 'receiving', 'blood', 'transfusion', 'receiving', 'unsterile', 'injections']}, 'receiving_blood_transfusion': {'keywords': ['itching', 'fatigue', 'lethargy', 'yellowish', 'skin', 'dark', 'urine', 'loss', 'of', 'appetite', 'abdominal', 'pain', 'yellow', 'urine', 'yellowing', 'of', 'eyes', 'malaise', 'receiving', 'blood', 'transfusion', 'receiving', 'unsterile', 'injections']}, 'receiving_unsterile_injections': {'keywords': ['itching', 'fatigue', 'lethargy', 'yellowish', 'skin', 'dark', 'urine', 'loss', 'of', 'appetite', 'abdominal', 'pain', 'yellow', 'urine', 'yellowing', 'of', 'eyes', 'malaise', 'receiving', 'blood', 'transfusion', 'receiving', 'unsterile', 'injections']}, 'coma': {'keywords': ['joint', 'pain', 'vomiting', 'fatigue', 'high', 'fever', 'yellowish', 'skin', 'dark', 'urine', 'nausea', 'loss', 'of', 'appetite', 'abdominal', 'pain', 'yellowing', 'of', 'eyes', 'acute', 'liver', 'failure', 'coma', 'stomach', 'bleeding']}, 'stomach_bleeding': {'keywords': ['joint', 'pain', 'vomiting', 'fatigue', 'high', 'fever', 'yellowish', 'skin', 'dark', 'urine', 'nausea', 'loss', 'of', 'appetite', 'abdominal', 'pain', 'yellowing', 'of', 'eyes', 'acute', 'liver', 'failure', 'coma', 'stomach', 'bleeding']}, 'acute_liver_failure': {'keywords': ['joint', 'pain', 'vomiting', 'fatigue', 'high', 'fever', 'yellowish', 'skin', 'dark', 'urine', 'nausea', 'loss', 'of', 'appetite', 'abdominal', 'pain', 'yellowing', 'of', 'eyes', 'acute', 'liver', 'failure', 'coma', 'stomach', 'bleeding']}, 'swelling_of_stomach': {'keywords': ['vomiting', 'yellowish', 'skin', 'abdominal', 'pain', 'swelling', 'of', 'stomach', 'distention', 'of', 'abdomen', 'history', 'of', 'alcohol', 'consumption', 'fluid', 'overload']}, 'distention_of_abdomen': {'keywords': ['vomiting', 'yellowish', 'skin', 'abdominal', 'pain', 'swelling', 'of', 'stomach', 'distention', 'of', 'abdomen', 'history', 'of', 'alcohol', 'consumption', 'fluid', 'overload']}, 'history_of_alcohol_consumption': {'keywords': ['vomiting', 'yellowish', 'skin', 'abdominal', 'pain', 'swelling', 'of', 'stomach', 'distention', 'of', 'abdomen', 'history', 'of', 'alcohol', 'consumption', 'fluid', 'overload']}, 'fluid_overload': {'keywords': ['vomiting', 'yellowish', 'skin', 'abdominal', 'pain', 'swelling', 'of', 'stomach', 'distention', 'of', 'abdomen', 'history', 'of', 'alcohol', 'consumption', 'fluid', 'overload']}, 'phlegm': {'keywords': ['chills', 'fatigue', 'cough', 'high', 'fever', 'breathlessness', 'sweating', 'malaise', 'phlegm', 'chest', 'pain', 'fast', 'heart', 'rate', 'rusty', 'sputum']}, 'blood_in_sputum': {'keywords': ['chills', 'vomiting', 'fatigue', 'weight', 'loss', 'cough', 'high', 'fever', 'breathlessness', 'sweating', 'loss', 'of', 'appetite', 'mild', 'fever', 'yellowing', 'of', 'eyes', 'swelled', 'lymph', 'nodes', 'malaise', 'phlegm', 'chest', 'pain', 'blood', 'in', 'sputum']}, 'throat_irritation': {'keywords': ['continuous', 'sneezing', 'chills', 'fatigue', 'cough', 'high', 'fever', 'headache', 'swelled', 'lymph', 'nodes', 'malaise', 'phlegm', 'throat', 'irritation', 'redness', 'of', 'eyes', 'sinus', 'pressure', 'runny', 'nose', 'congestion', 'chest', 'pain', 'loss', 'of', 'smell', 'muscle', 'pain']}, 'redness_of_eyes': {'keywords': ['continuous', 'sneezing', 'chills', 'fatigue', 'cough', 'high', 'fever', 'headache', 'swelled', 'lymph', 'nodes', 'malaise', 'phlegm', 'throat', 'irritation', 'redness', 'of', 'eyes', 'sinus', 'pressure', 'runny', 'nose', 'congestion', 'chest', 'pain', 'loss', 'of', 'smell', 'muscle', 'pain']}, 'sinus_pressure': {'keywords': ['continuous', 'sneezing', 'chills', 'fatigue', 'cough', 'high', 'fever', 'headache', 'swelled', 'lymph', 'nodes', 'malaise', 'phlegm', 'throat', 'irritation', 'redness', 'of', 'eyes', 'sinus', 'pressure', 'runny', 'nose', 'congestion', 'chest', 'pain', 'loss', 'of', 'smell', 'muscle', 'pain']}, 'runny_nose': {'keywords': ['continuous', 'sneezing', 'chills', 'fatigue', 'cough', 'high', 'fever', 'headache', 'swelled', 'lymph', 'nodes', 'malaise', 'phlegm', 'throat', 'irritation', 'redness', 'of', 'eyes', 'sinus', 'pressure', 'runny', 'nose', 'congestion', 'chest', 'pain', 'loss', 'of', 'smell', 'muscle', 'pain']}, 'congestion': {'keywords': ['continuous', 'sneezing', 'chills', 'fatigue', 'cough', 'high', 'fever', 'headache', 'swelled', 'lymph', 'nodes', 'malaise', 'phlegm', 'throat', 'irritation', 'redness', 'of', 'eyes', 'sinus', 'pressure', 'runny', 'nose', 'congestion', 'chest', 'pain', 'loss', 'of', 'smell', 'muscle', 'pain']}, 'loss_of_smell': {'keywords': ['continuous', 'sneezing', 'chills', 'fatigue', 'cough', 'high', 'fever', 'headache', 'swelled', 'lymph', 'nodes', 'malaise', 'phlegm', 'throat', 'irritation', 'redness', 'of', 'eyes', 'sinus', 'pressure', 'runny', 'nose', 'congestion', 'chest', 'pain', 'loss', 'of', 'smell', 'muscle', 'pain']}, 'fast_heart_rate': {'keywords': ['fatigue', 'mood', 'swings', 'weight', 'loss', 'restlessness', 'sweating', 'diarrhoea', 'fast', 'heart', 'rate', 'excessive', 'hunger', 'muscle', 'weakness', 'irritability', 'abnormal', 'menstruation']}, 'rusty_sputum': {'keywords': ['chills', 'fatigue', 'cough', 'high', 'fever', 'breathlessness', 'sweating', 'malaise', 'phlegm', 'chest', 'pain', 'fast', 'heart', 'rate', 'rusty', 'sputum']}, 'pain_during_bowel_movements': {'keywords': ['constipation', 'pain', 'during', 'bowel', 'movements', 'pain', 'in', 'anal', 'region', 'bloody', 'stool', 'irritation', 'in', 'anus']}, 'pain_in_anal_region': {'keywords': ['constipation', 'pain', 'during', 'bowel', 'movements', 'pain', 'in', 'anal', 'region', 'bloody', 'stool', 'irritation', 'in', 'anus']}, 'bloody_stool': {'keywords': ['constipation', 'pain', 'during', 'bowel', 'movements', 'pain', 'in', 'anal', 'region', 'bloody', 'stool', 'irritation', 'in', 'anus']}, 'irritation_in_anus': {'keywords': ['constipation', 'pain', 'during', 'bowel', 'movements', 'pain', 'in', 'anal', 'region', 'bloody', 'stool', 'irritation', 'in', 'anus']}, 'cramps': {'keywords': ['fatigue', 'cramps', 'bruising', 'obesity', 'swollen', 'legs', 'swollen', 'blood', 'vessels', 'prominent', 'veins', 'on', 'calf']}, 'bruising': {'keywords': ['fatigue', 'cramps', 'bruising', 'obesity', 'swollen', 'legs', 'swollen', 'blood', 'vessels', 'prominent', 'veins', 'on', 'calf']}, 'swollen_legs': {'keywords': ['fatigue', 'cramps', 'bruising', 'obesity', 'swollen', 'legs', 'swollen', 'blood', 'vessels', 'prominent', 'veins', 'on', 'calf']}, 'swollen_blood_vessels': {'keywords': ['fatigue', 'cramps', 'bruising', 'obesity', 'swollen', 'legs', 'swollen', 'blood', 'vessels', 'prominent', 'veins', 'on', 'calf']}, 'prominent_veins_on_calf': {'keywords': ['fatigue', 'cramps', 'bruising', 'obesity', 'swollen', 'legs', 'swollen', 'blood', 'vessels', 'prominent', 'veins', 'on', 'calf']}, 'weight_gain': {'keywords': ['fatigue', 'weight', 'gain', 'cold', 'hands', 'and', 'feets', 'mood', 'swings', 'lethargy', 'dizziness', 'puffy', 'face', 'and', 'eyes', 'enlarged', 'thyroid', 'brittle', 'nails', 'swollen', 'extremeties', 'depression', 'irritability', 'abnormal', 'menstruation']}, 'cold_hands_and_feets': {'keywords': ['fatigue', 'weight', 'gain', 'cold', 'hands', 'and', 'feets', 'mood', 'swings', 'lethargy', 'dizziness', 'puffy', 'face', 'and', 'eyes', 'enlarged', 'thyroid', 'brittle', 'nails', 'swollen', 'extremeties', 'depression', 'irritability', 'abnormal', 'menstruation']}, 'mood_swings': {'keywords': ['fatigue', 'mood', 'swings', 'weight', 'loss', 'restlessness', 'sweating', 'diarrhoea', 'fast', 'heart', 'rate', 'excessive', 'hunger', 'muscle', 'weakness', 'irritability', 'abnormal', 'menstruation']}, 'puffy_face_and_eyes': {'keywords': ['fatigue', 'weight', 'gain', 'cold', 'hands', 'and', 'feets', 'mood', 'swings', 'lethargy', 'dizziness', 'puffy', 'face', 'and', 'eyes', 'enlarged', 'thyroid', 'brittle', 'nails', 'swollen', 'extremeties', 'depression', 'irritability', 'abnormal', 'menstruation']}, 'enlarged_thyroid': {'keywords': ['fatigue', 'weight', 'gain', 'cold', 'hands', 'and', 'feets', 'mood', 'swings', 'lethargy', 'dizziness', 'puffy', 'face', 'and', 'eyes', 'enlarged', 'thyroid', 'brittle', 'nails', 'swollen', 'extremeties', 'depression', 'irritability', 'abnormal', 'menstruation']}, 'brittle_nails': {'keywords': ['fatigue', 'weight', 'gain', 'cold', 'hands', 'and', 'feets', 'mood', 'swings', 'lethargy', 'dizziness', 'puffy', 'face', 'and', 'eyes', 'enlarged', 'thyroid', 'brittle', 'nails', 'swollen', 'extremeties', 'depression', 'irritability', 'abnormal', 'menstruation']}, 'swollen_extremeties': {'keywords': ['fatigue', 'weight', 'gain', 'cold', 'hands', 'and', 'feets', 'mood', 'swings', 'lethargy', 'dizziness', 'puffy', 'face', 'and', 'eyes', 'enlarged', 'thyroid', 'brittle', 'nails', 'swollen', 'extremeties', 'depression', 'irritability', 'abnormal', 'menstruation']}, 'abnormal_menstruation': {'keywords': ['fatigue', 'mood', 'swings', 'weight', 'loss', 'restlessness', 'sweating', 'diarrhoea', 'fast', 'heart', 'rate', 'excessive', 'hunger', 'muscle', 'weakness', 'irritability', 'abnormal', 'menstruation']}, 'muscle_weakness': {'keywords': ['muscle', 'weakness', 'stiff', 'neck', 'swelling', 'joints', 'movement', 'stiffness', 'painful', 'walking']}, 'anxiety': {'keywords': ['vomiting', 'fatigue', 'anxiety', 'sweating', 'headache', 'nausea', 'blurred', 'and', 'distorted', 'vision', 'excessive', 'hunger', 'drying', 'and', 'tingling', 'lips', 'slurred', 'speech', 'irritability', 'palpitations']}, 'slurred_speech': {'keywords': ['vomiting', 'fatigue', 'anxiety', 'sweating', 'headache', 'nausea', 'blurred', 'and', 'distorted', 'vision', 'excessive', 'hunger', 'drying', 'and', 'tingling', 'lips', 'slurred', 'speech', 'irritability', 'palpitations']}, 'palpitations': {'keywords': ['vomiting', 'fatigue', 'anxiety', 'sweating', 'headache', 'nausea', 'blurred', 'and', 'distorted', 'vision', 'excessive', 'hunger', 'drying', 'and', 'tingling', 'lips', 'slurred', 'speech', 'irritability', 'palpitations']}, 'drying_and_tingling_lips': {'keywords': ['vomiting', 'fatigue', 'anxiety', 'sweating', 'headache', 'nausea', 'blurred', 'and', 'distorted', 'vision', 'excessive', 'hunger', 'drying', 'and', 'tingling', 'lips', 'slurred', 'speech', 'irritability', 'palpitations']}, 'knee_pain': {'keywords': ['joint', 'pain', 'neck', 'pain', 'knee', 'pain', 'hip', 'joint', 'pain', 'swelling', 'joints', 'painful', 'walking']}, 'hip_joint_pain': {'keywords': ['joint', 'pain', 'neck', 'pain', 'knee', 'pain', 'hip', 'joint', 'pain', 'swelling', 'joints', 'painful', 'walking']}, 'swelling_joints': {'keywords': ['muscle', 'weakness', 'stiff', 'neck', 'swelling', 'joints', 'movement', 'stiffness', 'painful', 'walking']}, 'painful_walking': {'keywords': ['muscle', 'weakness', 'stiff', 'neck', 'swelling', 'joints', 'movement', 'stiffness', 'painful', 'walking']}, 'movement_stiffness': {'keywords': ['muscle', 'weakness', 'stiff', 'neck', 'swelling', 'joints', 'movement', 'stiffness', 'painful', 'walking']}, 'spinning_movements': {'keywords': ['vomiting', 'headache', 'nausea', 'spinning', 'movements', 'loss', 'of', 'balance', 'unsteadiness']}, 'unsteadiness': {'keywords': ['vomiting', 'headache', 'nausea', 'spinning', 'movements', 'loss', 'of', 'balance', 'unsteadiness']}, 'pus_filled_pimples': {'keywords': ['skin', 'rash', 'pus', 'filled', 'pimples', 'blackheads', 'scurring']}, 'blackheads': {'keywords': ['skin', 'rash', 'pus', 'filled', 'pimples', 'blackheads', 'scurring']}, 'scurring': {'keywords': ['skin', 'rash', 'pus', 'filled', 'pimples', 'blackheads', 'scurring']}, 'bladder_discomfort': {'keywords': ['burning', 'micturition', 'bladder', 'discomfort', 'foul', 'smell', 'of urine', 'continuous', 'feel', 'of', 'urine']}, 'foul_smell_of urine': {'keywords': ['burning', 'micturition', 'bladder', 'discomfort', 'foul', 'smell', 'of urine', 'continuous', 'feel', 'of', 'urine']}, 'continuous_feel_of_urine': {'keywords': ['burning', 'micturition', 'bladder', 'discomfort', 'foul', 'smell', 'of urine', 'continuous', 'feel', 'of', 'urine']}, 'skin_peeling': {'keywords': ['skin', 'rash', 'joint', 'pain', 'skin', 'peeling', 'silver', 'like', 'dusting', 'small', 'dents', 'in', 'nails', 'inflammatory', 'nails']}, 'silver_like_dusting': {'keywords': ['skin', 'rash', 'joint', 'pain', 'skin', 'peeling', 'silver', 'like', 'dusting', 'small', 'dents', 'in', 'nails', 'inflammatory', 'nails']}, 'small_dents_in_nails': {'keywords': ['skin', 'rash', 'joint', 'pain', 'skin', 'peeling', 'silver', 'like', 'dusting', 'small', 'dents', 'in', 'nails', 'inflammatory', 'nails']}, 'inflammatory_nails': {'keywords': ['skin', 'rash', 'joint', 'pain', 'skin', 'peeling', 'silver', 'like', 'dusting', 'small', 'dents', 'in', 'nails', 'inflammatory', 'nails']}, 'blister': {'keywords': ['skin', 'rash', 'high', 'fever', 'blister', 'red', 'sore', 'around', 'nose', 'yellow', 'crust', 'ooze']}, 'red_sore_around_nose': {'keywords': ['skin', 'rash', 'high', 'fever', 'blister', 'red', 'sore', 'around', 'nose', 'yellow', 'crust', 'ooze']}, 'yellow_crust_ooze': {'keywords': ['skin', 'rash', 'high', 'fever', 'blister', 'red', 'sore', 'around', 'nose', 'yellow', 'crust', 'ooze']}}\n"
     ]
    }
   ],
   "source": [
    "import pandas as pd\n",
    "\n",
    "# Load the CSV file into a DataFrame\n",
    "csv_file_path = r'C:\\Users\\ASUS\\Desktop\\CSE499 Project\\CSE499-Project\\dataset\\raw_data.csv'  # Replace with the actual path to your CSV file\n",
    "df = pd.read_csv(csv_file_path)\n",
    "\n",
    "# Create an empty dictionary for the symptom-keyword mapping\n",
    "symptom_mapping = {}\n",
    "\n",
    "# Iterate through the DataFrame rows\n",
    "for index, row in df.iterrows():\n",
    "    symptoms = []\n",
    "    keywords = []\n",
    "\n",
    "    # Loop through symptom columns and extract symptom-keyword pairs\n",
    "    for column_name in df.columns:\n",
    "        if column_name.startswith('Symptom_'):\n",
    "            symptom = row[column_name]\n",
    "            if isinstance(symptom, str):  # Check if the value is a string\n",
    "                symptom = symptom.strip()\n",
    "                if symptom:\n",
    "                    symptoms.append(symptom)\n",
    "                    keywords.extend(symptom.split('_'))  # Split keywords and add to the list\n",
    "    \n",
    "    # Populate the symptom-keyword mapping for each symptom\n",
    "    for symptom in symptoms:\n",
    "        symptom_mapping[symptom] = {\n",
    "            \"keywords\": [keyword.strip() for keyword in keywords if keyword.strip()]\n",
    "        }\n",
    "\n",
    "# Now you have your symptom-keyword mapping ready\n",
    "print(symptom_mapping)\n"
   ]
  },
  {
   "cell_type": "code",
   "execution_count": null,
   "id": "153f6e74",
   "metadata": {},
   "outputs": [],
   "source": [
    "import pandas as pd\n",
    "\n",
    "# Read the second dataset into a DataFrame\n",
    "df2 = pd.read_csv(r'C:\\Users\\ASUS\\Desktop\\CSE499 Project\\CSE499-Project\\dataset\\raw_data_2.csv')  # Replace with your second dataset file\n",
    "\n",
    "# Group symptoms by disease and aggregate them into a single row\n",
    "df2_grouped = df2.groupby('Disease')['Symptoms'].apply(lambda x: ', '.join(x)).reset_index()\n",
    "\n",
    "# Rename the 'Symptoms' column to 'Symptom1'\n",
    "df2_grouped.rename(columns={'Symptoms': 'Symptom1'}, inplace=True)\n",
    "\n",
    "# Add columns for additional symptoms (Symptom2, Symptom3, etc.)\n",
    "num_additional_symptoms = 10  # Adjust this based on the maximum number of symptoms you expect\n",
    "for i in range(2, num_additional_symptoms + 1):\n",
    "    df2_grouped[f'Symptom{i}'] = ''\n",
    "\n",
    "# Save the converted dataset to a new CSV file\n",
    "df2_grouped.to_csv('converted_dataset2.csv', index=False)\n",
    "\n",
    "print(\"Converted dataset has been saved to 'converted_dataset2.csv'.\")\n"
   ]
  }
 ],
 "metadata": {
  "kernelspec": {
   "display_name": "Python 3 (ipykernel)",
   "language": "python",
   "name": "python3"
  },
  "language_info": {
   "codemirror_mode": {
    "name": "ipython",
    "version": 3
   },
   "file_extension": ".py",
   "mimetype": "text/x-python",
   "name": "python",
   "nbconvert_exporter": "python",
   "pygments_lexer": "ipython3",
   "version": "3.9.13"
  }
 },
 "nbformat": 4,
 "nbformat_minor": 5
}
